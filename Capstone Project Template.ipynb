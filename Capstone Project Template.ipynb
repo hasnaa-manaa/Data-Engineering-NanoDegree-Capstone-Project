{
 "cells": [
  {
   "cell_type": "markdown",
   "metadata": {
    "editable": true
   },
   "source": [
    "# Project Title\n",
    "### Data Engineering Capstone Project\n",
    "\n",
    "#### Project Summary\n",
    "This project is based on Anime dataset that were obtained through 3 sets one for user level, another for Anime level and third describing the status, dataset is going to be loaded into OLAP for seek of analysis and  building  Anime recommendation system later, the data raw format is in csv and it is going to be loaded in querable tables  \n",
    "\n",
    "The project follows the follow steps:\n",
    "* Step 1: Scope the Project and Gather Data\n",
    "* Step 2: Explore and Assess the Data\n",
    "* Step 3: Define the Data Model\n",
    "* Step 4: Run ETL to Model the Data\n",
    "* Step 5: Complete Project Write Up"
   ]
  },
  {
   "cell_type": "code",
   "execution_count": 1,
   "metadata": {
    "editable": true
   },
   "outputs": [],
   "source": [
    "# Do all imports and installs here\n",
    "import pandas as pd\n",
    "import cleansing_functions as clean\n",
    "import os\n",
    "import configparser\n",
    "import datetime as dt\n",
    "from pyspark.sql.functions import isnan, when, count, col, udf, dayofmonth, dayofweek, month, year, weekofyear, avg, monotonically_increasing_id\n",
    "from pyspark.sql.types import *\n",
    "import warnings\n",
    "warnings.filterwarnings('ignore')\n",
    "from pyspark.sql import SparkSession\n",
    "from pyspark.sql.functions import *\n",
    "from pyspark.sql.types import DoubleType, StringType, IntegerType, FloatType,DateType\n",
    "from pyspark.sql import functions as F\n",
    "import create_tables as ct\n",
    "import Quality_Checks as qc"
   ]
  },
  {
   "cell_type": "markdown",
   "metadata": {
    "editable": true
   },
   "source": [
    "### Step 1: Scope the Project and Gather Data\n",
    "\n",
    "#### Scope \n",
    " I am going to explore, clean data by removing duplicates and unneeded columns, orient it in relational database to help data scientist train model for building Anime recommendation system that can be used for advertising and helping users find their next Anime to watch\n",
    "\n",
    "#### Describe and Gather Data \n",
    "I got the data from Kaggle, it is describing some measures about anime viewers like how many episodes he/she watched and anime measures like ratings, count of views and when it was first shown, etc.. \n",
    "aslo there was table for watching status mapping and also I added date table that I generated with DAX query and attached the screenshot on the left, it could be done using spark also but was easier for me do it through DAX"
   ]
  },
  {
   "cell_type": "code",
   "execution_count": 2,
   "metadata": {
    "editable": true
   },
   "outputs": [],
   "source": [
    "anime_df = pd.read_csv('anime.csv')"
   ]
  },
  {
   "cell_type": "code",
   "execution_count": 3,
   "metadata": {
    "editable": true
   },
   "outputs": [
    {
     "data": {
      "text/html": [
       "<div>\n",
       "<style scoped>\n",
       "    .dataframe tbody tr th:only-of-type {\n",
       "        vertical-align: middle;\n",
       "    }\n",
       "\n",
       "    .dataframe tbody tr th {\n",
       "        vertical-align: top;\n",
       "    }\n",
       "\n",
       "    .dataframe thead th {\n",
       "        text-align: right;\n",
       "    }\n",
       "</style>\n",
       "<table border=\"1\" class=\"dataframe\">\n",
       "  <thead>\n",
       "    <tr style=\"text-align: right;\">\n",
       "      <th></th>\n",
       "      <th>MAL_ID</th>\n",
       "      <th>Name</th>\n",
       "      <th>Score</th>\n",
       "      <th>Genres</th>\n",
       "      <th>English name</th>\n",
       "      <th>Japanese name</th>\n",
       "      <th>Type</th>\n",
       "      <th>Episodes</th>\n",
       "      <th>Aired</th>\n",
       "      <th>Premiered</th>\n",
       "      <th>...</th>\n",
       "      <th>Score-10</th>\n",
       "      <th>Score-9</th>\n",
       "      <th>Score-8</th>\n",
       "      <th>Score-7</th>\n",
       "      <th>Score-6</th>\n",
       "      <th>Score-5</th>\n",
       "      <th>Score-4</th>\n",
       "      <th>Score-3</th>\n",
       "      <th>Score-2</th>\n",
       "      <th>Score-1</th>\n",
       "    </tr>\n",
       "  </thead>\n",
       "  <tbody>\n",
       "    <tr>\n",
       "      <th>0</th>\n",
       "      <td>1</td>\n",
       "      <td>Cowboy Bebop</td>\n",
       "      <td>8.78</td>\n",
       "      <td>Action, Adventure, Comedy, Drama, Sci-Fi, Space</td>\n",
       "      <td>Cowboy Bebop</td>\n",
       "      <td>カウボーイビバップ</td>\n",
       "      <td>TV</td>\n",
       "      <td>26</td>\n",
       "      <td>Apr 3, 1998 to Apr 24, 1999</td>\n",
       "      <td>Spring 1998</td>\n",
       "      <td>...</td>\n",
       "      <td>229170.0</td>\n",
       "      <td>182126.0</td>\n",
       "      <td>131625.0</td>\n",
       "      <td>62330.0</td>\n",
       "      <td>20688.0</td>\n",
       "      <td>8904.0</td>\n",
       "      <td>3184.0</td>\n",
       "      <td>1357.0</td>\n",
       "      <td>741.0</td>\n",
       "      <td>1580.0</td>\n",
       "    </tr>\n",
       "    <tr>\n",
       "      <th>1</th>\n",
       "      <td>5</td>\n",
       "      <td>Cowboy Bebop: Tengoku no Tobira</td>\n",
       "      <td>8.39</td>\n",
       "      <td>Action, Drama, Mystery, Sci-Fi, Space</td>\n",
       "      <td>Cowboy Bebop:The Movie</td>\n",
       "      <td>カウボーイビバップ 天国の扉</td>\n",
       "      <td>Movie</td>\n",
       "      <td>1</td>\n",
       "      <td>Sep 1, 2001</td>\n",
       "      <td>Unknown</td>\n",
       "      <td>...</td>\n",
       "      <td>30043.0</td>\n",
       "      <td>49201.0</td>\n",
       "      <td>49505.0</td>\n",
       "      <td>22632.0</td>\n",
       "      <td>5805.0</td>\n",
       "      <td>1877.0</td>\n",
       "      <td>577.0</td>\n",
       "      <td>221.0</td>\n",
       "      <td>109.0</td>\n",
       "      <td>379.0</td>\n",
       "    </tr>\n",
       "    <tr>\n",
       "      <th>2</th>\n",
       "      <td>6</td>\n",
       "      <td>Trigun</td>\n",
       "      <td>8.24</td>\n",
       "      <td>Action, Sci-Fi, Adventure, Comedy, Drama, Shounen</td>\n",
       "      <td>Trigun</td>\n",
       "      <td>トライガン</td>\n",
       "      <td>TV</td>\n",
       "      <td>26</td>\n",
       "      <td>Apr 1, 1998 to Sep 30, 1998</td>\n",
       "      <td>Spring 1998</td>\n",
       "      <td>...</td>\n",
       "      <td>50229.0</td>\n",
       "      <td>75651.0</td>\n",
       "      <td>86142.0</td>\n",
       "      <td>49432.0</td>\n",
       "      <td>15376.0</td>\n",
       "      <td>5838.0</td>\n",
       "      <td>1965.0</td>\n",
       "      <td>664.0</td>\n",
       "      <td>316.0</td>\n",
       "      <td>533.0</td>\n",
       "    </tr>\n",
       "    <tr>\n",
       "      <th>3</th>\n",
       "      <td>7</td>\n",
       "      <td>Witch Hunter Robin</td>\n",
       "      <td>7.27</td>\n",
       "      <td>Action, Mystery, Police, Supernatural, Drama, ...</td>\n",
       "      <td>Witch Hunter Robin</td>\n",
       "      <td>Witch Hunter ROBIN (ウイッチハンターロビン)</td>\n",
       "      <td>TV</td>\n",
       "      <td>26</td>\n",
       "      <td>Jul 2, 2002 to Dec 24, 2002</td>\n",
       "      <td>Summer 2002</td>\n",
       "      <td>...</td>\n",
       "      <td>2182.0</td>\n",
       "      <td>4806.0</td>\n",
       "      <td>10128.0</td>\n",
       "      <td>11618.0</td>\n",
       "      <td>5709.0</td>\n",
       "      <td>2920.0</td>\n",
       "      <td>1083.0</td>\n",
       "      <td>353.0</td>\n",
       "      <td>164.0</td>\n",
       "      <td>131.0</td>\n",
       "    </tr>\n",
       "    <tr>\n",
       "      <th>4</th>\n",
       "      <td>8</td>\n",
       "      <td>Bouken Ou Beet</td>\n",
       "      <td>6.98</td>\n",
       "      <td>Adventure, Fantasy, Shounen, Supernatural</td>\n",
       "      <td>Beet the Vandel Buster</td>\n",
       "      <td>冒険王ビィト</td>\n",
       "      <td>TV</td>\n",
       "      <td>52</td>\n",
       "      <td>Sep 30, 2004 to Sep 29, 2005</td>\n",
       "      <td>Fall 2004</td>\n",
       "      <td>...</td>\n",
       "      <td>312.0</td>\n",
       "      <td>529.0</td>\n",
       "      <td>1242.0</td>\n",
       "      <td>1713.0</td>\n",
       "      <td>1068.0</td>\n",
       "      <td>634.0</td>\n",
       "      <td>265.0</td>\n",
       "      <td>83.0</td>\n",
       "      <td>50.0</td>\n",
       "      <td>27.0</td>\n",
       "    </tr>\n",
       "  </tbody>\n",
       "</table>\n",
       "<p>5 rows × 35 columns</p>\n",
       "</div>"
      ],
      "text/plain": [
       "   MAL_ID                             Name Score  \\\n",
       "0       1                     Cowboy Bebop  8.78   \n",
       "1       5  Cowboy Bebop: Tengoku no Tobira  8.39   \n",
       "2       6                           Trigun  8.24   \n",
       "3       7               Witch Hunter Robin  7.27   \n",
       "4       8                   Bouken Ou Beet  6.98   \n",
       "\n",
       "                                              Genres            English name  \\\n",
       "0    Action, Adventure, Comedy, Drama, Sci-Fi, Space            Cowboy Bebop   \n",
       "1              Action, Drama, Mystery, Sci-Fi, Space  Cowboy Bebop:The Movie   \n",
       "2  Action, Sci-Fi, Adventure, Comedy, Drama, Shounen                  Trigun   \n",
       "3  Action, Mystery, Police, Supernatural, Drama, ...      Witch Hunter Robin   \n",
       "4          Adventure, Fantasy, Shounen, Supernatural  Beet the Vandel Buster   \n",
       "\n",
       "                      Japanese name   Type Episodes  \\\n",
       "0                         カウボーイビバップ     TV       26   \n",
       "1                    カウボーイビバップ 天国の扉  Movie        1   \n",
       "2                             トライガン     TV       26   \n",
       "3  Witch Hunter ROBIN (ウイッチハンターロビン)     TV       26   \n",
       "4                            冒険王ビィト     TV       52   \n",
       "\n",
       "                          Aired    Premiered   ...     Score-10   Score-9  \\\n",
       "0   Apr 3, 1998 to Apr 24, 1999  Spring 1998   ...     229170.0  182126.0   \n",
       "1                   Sep 1, 2001      Unknown   ...      30043.0   49201.0   \n",
       "2   Apr 1, 1998 to Sep 30, 1998  Spring 1998   ...      50229.0   75651.0   \n",
       "3   Jul 2, 2002 to Dec 24, 2002  Summer 2002   ...       2182.0    4806.0   \n",
       "4  Sep 30, 2004 to Sep 29, 2005    Fall 2004   ...        312.0     529.0   \n",
       "\n",
       "    Score-8  Score-7  Score-6 Score-5 Score-4  Score-3  Score-2  Score-1  \n",
       "0  131625.0  62330.0  20688.0  8904.0  3184.0   1357.0    741.0   1580.0  \n",
       "1   49505.0  22632.0   5805.0  1877.0   577.0    221.0    109.0    379.0  \n",
       "2   86142.0  49432.0  15376.0  5838.0  1965.0    664.0    316.0    533.0  \n",
       "3   10128.0  11618.0   5709.0  2920.0  1083.0    353.0    164.0    131.0  \n",
       "4    1242.0   1713.0   1068.0   634.0   265.0     83.0     50.0     27.0  \n",
       "\n",
       "[5 rows x 35 columns]"
      ]
     },
     "execution_count": 3,
     "metadata": {},
     "output_type": "execute_result"
    }
   ],
   "source": [
    "anime_df.head()"
   ]
  },
  {
   "cell_type": "code",
   "execution_count": 4,
   "metadata": {
    "editable": true
   },
   "outputs": [
    {
     "data": {
      "text/plain": [
       "MAL_ID            int64\n",
       "Name             object\n",
       "Score            object\n",
       "Genres           object\n",
       "English name     object\n",
       "Japanese name    object\n",
       "Type             object\n",
       "Episodes         object\n",
       "Aired            object\n",
       "Premiered        object\n",
       "Producers        object\n",
       "Licensors        object\n",
       "Studios          object\n",
       "Source           object\n",
       "Duration         object\n",
       "Rating           object\n",
       "Ranked           object\n",
       "Popularity        int64\n",
       "Members           int64\n",
       "Favorites         int64\n",
       "Watching          int64\n",
       "Completed         int64\n",
       "On-Hold           int64\n",
       "Dropped           int64\n",
       "Plan to Watch     int64\n",
       "Score-10         object\n",
       "Score-9          object\n",
       "Score-8          object\n",
       "Score-7          object\n",
       "Score-6          object\n",
       "Score-5          object\n",
       "Score-4          object\n",
       "Score-3          object\n",
       "Score-2          object\n",
       "Score-1          object\n",
       "dtype: object"
      ]
     },
     "execution_count": 4,
     "metadata": {},
     "output_type": "execute_result"
    }
   ],
   "source": [
    "anime_df.dtypes"
   ]
  },
  {
   "cell_type": "code",
   "execution_count": 5,
   "metadata": {
    "editable": true
   },
   "outputs": [],
   "source": [
    "Anime_Dict = pd.read_csv('data dictionary for Anime.csv')\n"
   ]
  },
  {
   "cell_type": "markdown",
   "metadata": {
    "editable": true
   },
   "source": [
    "#### Data Dictionary for Anime dataset"
   ]
  },
  {
   "cell_type": "code",
   "execution_count": 6,
   "metadata": {
    "editable": true,
    "jupyter": {
     "source_hidden": true
    }
   },
   "outputs": [
    {
     "data": {
      "text/html": [
       "<div>\n",
       "<style scoped>\n",
       "    .dataframe tbody tr th:only-of-type {\n",
       "        vertical-align: middle;\n",
       "    }\n",
       "\n",
       "    .dataframe tbody tr th {\n",
       "        vertical-align: top;\n",
       "    }\n",
       "\n",
       "    .dataframe thead th {\n",
       "        text-align: right;\n",
       "    }\n",
       "</style>\n",
       "<table border=\"1\" class=\"dataframe\">\n",
       "  <thead>\n",
       "    <tr style=\"text-align: right;\">\n",
       "      <th></th>\n",
       "      <th>Column</th>\n",
       "      <th>Description</th>\n",
       "    </tr>\n",
       "  </thead>\n",
       "  <tbody>\n",
       "    <tr>\n",
       "      <th>0</th>\n",
       "      <td>MAL_ID</td>\n",
       "      <td>MyAnimelist ID of the anime. (e.g. 1)</td>\n",
       "    </tr>\n",
       "    <tr>\n",
       "      <th>1</th>\n",
       "      <td>Name</td>\n",
       "      <td>full name of the anime. (e.g. Cowboy Bebop)</td>\n",
       "    </tr>\n",
       "    <tr>\n",
       "      <th>2</th>\n",
       "      <td>Score</td>\n",
       "      <td>average score of the anime given from all use...</td>\n",
       "    </tr>\n",
       "    <tr>\n",
       "      <th>3</th>\n",
       "      <td>Genres</td>\n",
       "      <td>comma separated list of genres for this anime...</td>\n",
       "    </tr>\n",
       "    <tr>\n",
       "      <th>4</th>\n",
       "      <td>English name</td>\n",
       "      <td>full name in english of the anime. (e.g. Cowb...</td>\n",
       "    </tr>\n",
       "    <tr>\n",
       "      <th>5</th>\n",
       "      <td>Japanese name</td>\n",
       "      <td>full name in japanses of the anime. (e.g. カウボ...</td>\n",
       "    </tr>\n",
       "    <tr>\n",
       "      <th>6</th>\n",
       "      <td>Type</td>\n",
       "      <td>TV, movie, OVA, etc. (e.g. TV)</td>\n",
       "    </tr>\n",
       "    <tr>\n",
       "      <th>7</th>\n",
       "      <td>Episodes'</td>\n",
       "      <td>number of chapters. (e.g. 26)</td>\n",
       "    </tr>\n",
       "    <tr>\n",
       "      <th>8</th>\n",
       "      <td>Aired</td>\n",
       "      <td>broadcast date. (e.g. Apr 3, 1998 to Apr 24, ...</td>\n",
       "    </tr>\n",
       "    <tr>\n",
       "      <th>9</th>\n",
       "      <td>Premiered</td>\n",
       "      <td>season premiere. (e.g. Spring 1998)</td>\n",
       "    </tr>\n",
       "    <tr>\n",
       "      <th>10</th>\n",
       "      <td>Producers</td>\n",
       "      <td>comma separated list of produducers (e.g. Ban...</td>\n",
       "    </tr>\n",
       "    <tr>\n",
       "      <th>11</th>\n",
       "      <td>Licensors</td>\n",
       "      <td>comma separated list of licensors (e.g. Funim...</td>\n",
       "    </tr>\n",
       "    <tr>\n",
       "      <th>12</th>\n",
       "      <td>Studios</td>\n",
       "      <td>comma separated list of studios (e.g. Sunrise)</td>\n",
       "    </tr>\n",
       "    <tr>\n",
       "      <th>13</th>\n",
       "      <td>Source</td>\n",
       "      <td>Manga, Light novel, Book, etc. (e.g Original)</td>\n",
       "    </tr>\n",
       "    <tr>\n",
       "      <th>14</th>\n",
       "      <td>Duration</td>\n",
       "      <td>duration of the anime per episode (e.g 24 min...</td>\n",
       "    </tr>\n",
       "    <tr>\n",
       "      <th>15</th>\n",
       "      <td>Rating</td>\n",
       "      <td>age rate (e.g. R - 17+ (violence &amp; profanity))</td>\n",
       "    </tr>\n",
       "    <tr>\n",
       "      <th>16</th>\n",
       "      <td>Ranked</td>\n",
       "      <td>position based in the score. (e.g 28)</td>\n",
       "    </tr>\n",
       "    <tr>\n",
       "      <th>17</th>\n",
       "      <td>Popularity</td>\n",
       "      <td>position based in the the number of users who...</td>\n",
       "    </tr>\n",
       "    <tr>\n",
       "      <th>18</th>\n",
       "      <td>Members</td>\n",
       "      <td>number of community members that are in this ...</td>\n",
       "    </tr>\n",
       "    <tr>\n",
       "      <th>19</th>\n",
       "      <td>Favorites</td>\n",
       "      <td>number of users who have the anime as \"favori...</td>\n",
       "    </tr>\n",
       "    <tr>\n",
       "      <th>20</th>\n",
       "      <td>Watching</td>\n",
       "      <td>number of users who are watching the anime. (...</td>\n",
       "    </tr>\n",
       "    <tr>\n",
       "      <th>21</th>\n",
       "      <td>Completed</td>\n",
       "      <td>number of users who have complete the anime. ...</td>\n",
       "    </tr>\n",
       "    <tr>\n",
       "      <th>22</th>\n",
       "      <td>On-Hold</td>\n",
       "      <td>number of users who have the anime on Hold. (...</td>\n",
       "    </tr>\n",
       "    <tr>\n",
       "      <th>23</th>\n",
       "      <td>Dropped</td>\n",
       "      <td>number of users who have dropped the anime. (...</td>\n",
       "    </tr>\n",
       "    <tr>\n",
       "      <th>24</th>\n",
       "      <td>Plan to Watch'</td>\n",
       "      <td>number of users who plan to watch the anime. ...</td>\n",
       "    </tr>\n",
       "    <tr>\n",
       "      <th>25</th>\n",
       "      <td>Score-10'</td>\n",
       "      <td>number of users who scored 10. (e.g. 229170)</td>\n",
       "    </tr>\n",
       "    <tr>\n",
       "      <th>26</th>\n",
       "      <td>Score-9'</td>\n",
       "      <td>number of users who scored 9. (e.g. 182126)</td>\n",
       "    </tr>\n",
       "    <tr>\n",
       "      <th>27</th>\n",
       "      <td>Score-8'</td>\n",
       "      <td>number of users who scored 8. (e.g. 131625)</td>\n",
       "    </tr>\n",
       "    <tr>\n",
       "      <th>28</th>\n",
       "      <td>Score-7'</td>\n",
       "      <td>number of users who scored 7. (e.g. 62330)</td>\n",
       "    </tr>\n",
       "    <tr>\n",
       "      <th>29</th>\n",
       "      <td>Score-6'</td>\n",
       "      <td>number of users who scored 6. (e.g. 20688)</td>\n",
       "    </tr>\n",
       "    <tr>\n",
       "      <th>30</th>\n",
       "      <td>Score-5'</td>\n",
       "      <td>number of users who scored 5. (e.g. 8904)</td>\n",
       "    </tr>\n",
       "    <tr>\n",
       "      <th>31</th>\n",
       "      <td>Score-4'</td>\n",
       "      <td>number of users who scored 4. (e.g. 3184)</td>\n",
       "    </tr>\n",
       "    <tr>\n",
       "      <th>32</th>\n",
       "      <td>Score-3'</td>\n",
       "      <td>number of users who scored 3. (e.g. 1357)</td>\n",
       "    </tr>\n",
       "    <tr>\n",
       "      <th>33</th>\n",
       "      <td>Score-2'</td>\n",
       "      <td>number of users who scored 2. (e.g. 741)</td>\n",
       "    </tr>\n",
       "    <tr>\n",
       "      <th>34</th>\n",
       "      <td>Score-1'</td>\n",
       "      <td>number of users who scored 1. (e.g. 1580)</td>\n",
       "    </tr>\n",
       "    <tr>\n",
       "      <th>35</th>\n",
       "      <td>NaN</td>\n",
       "      <td>NaN</td>\n",
       "    </tr>\n",
       "  </tbody>\n",
       "</table>\n",
       "</div>"
      ],
      "text/plain": [
       "            Column                                        Description\n",
       "0           MAL_ID              MyAnimelist ID of the anime. (e.g. 1)\n",
       "1             Name        full name of the anime. (e.g. Cowboy Bebop)\n",
       "2            Score   average score of the anime given from all use...\n",
       "3           Genres   comma separated list of genres for this anime...\n",
       "4     English name   full name in english of the anime. (e.g. Cowb...\n",
       "5    Japanese name   full name in japanses of the anime. (e.g. カウボ...\n",
       "6             Type                     TV, movie, OVA, etc. (e.g. TV)\n",
       "7        Episodes'                      number of chapters. (e.g. 26)\n",
       "8            Aired   broadcast date. (e.g. Apr 3, 1998 to Apr 24, ...\n",
       "9        Premiered                season premiere. (e.g. Spring 1998)\n",
       "10       Producers   comma separated list of produducers (e.g. Ban...\n",
       "11       Licensors   comma separated list of licensors (e.g. Funim...\n",
       "12         Studios     comma separated list of studios (e.g. Sunrise)\n",
       "13          Source      Manga, Light novel, Book, etc. (e.g Original)\n",
       "14        Duration   duration of the anime per episode (e.g 24 min...\n",
       "15          Rating     age rate (e.g. R - 17+ (violence & profanity))\n",
       "16          Ranked              position based in the score. (e.g 28)\n",
       "17      Popularity   position based in the the number of users who...\n",
       "18         Members   number of community members that are in this ...\n",
       "19       Favorites   number of users who have the anime as \"favori...\n",
       "20        Watching   number of users who are watching the anime. (...\n",
       "21       Completed   number of users who have complete the anime. ...\n",
       "22         On-Hold   number of users who have the anime on Hold. (...\n",
       "23         Dropped   number of users who have dropped the anime. (...\n",
       "24  Plan to Watch'   number of users who plan to watch the anime. ...\n",
       "25       Score-10'       number of users who scored 10. (e.g. 229170)\n",
       "26        Score-9'        number of users who scored 9. (e.g. 182126)\n",
       "27        Score-8'        number of users who scored 8. (e.g. 131625)\n",
       "28        Score-7'         number of users who scored 7. (e.g. 62330)\n",
       "29        Score-6'         number of users who scored 6. (e.g. 20688)\n",
       "30        Score-5'          number of users who scored 5. (e.g. 8904)\n",
       "31        Score-4'          number of users who scored 4. (e.g. 3184)\n",
       "32        Score-3'          number of users who scored 3. (e.g. 1357)\n",
       "33        Score-2'           number of users who scored 2. (e.g. 741)\n",
       "34        Score-1'          number of users who scored 1. (e.g. 1580)\n",
       "35             NaN                                                NaN"
      ]
     },
     "execution_count": 6,
     "metadata": {},
     "output_type": "execute_result"
    }
   ],
   "source": [
    "Anime_Dict.head(100)"
   ]
  },
  {
   "cell_type": "code",
   "execution_count": 7,
   "metadata": {
    "editable": true
   },
   "outputs": [],
   "source": [
    "anime_user_rating_df = pd.read_csv('anime user rating.csv')"
   ]
  },
  {
   "cell_type": "code",
   "execution_count": 8,
   "metadata": {
    "editable": true
   },
   "outputs": [
    {
     "data": {
      "text/html": [
       "<div>\n",
       "<style scoped>\n",
       "    .dataframe tbody tr th:only-of-type {\n",
       "        vertical-align: middle;\n",
       "    }\n",
       "\n",
       "    .dataframe tbody tr th {\n",
       "        vertical-align: top;\n",
       "    }\n",
       "\n",
       "    .dataframe thead th {\n",
       "        text-align: right;\n",
       "    }\n",
       "</style>\n",
       "<table border=\"1\" class=\"dataframe\">\n",
       "  <thead>\n",
       "    <tr style=\"text-align: right;\">\n",
       "      <th></th>\n",
       "      <th>user_id</th>\n",
       "      <th>anime_id</th>\n",
       "      <th>rating</th>\n",
       "      <th>watching_status</th>\n",
       "      <th>watched_episodes</th>\n",
       "    </tr>\n",
       "  </thead>\n",
       "  <tbody>\n",
       "    <tr>\n",
       "      <th>0</th>\n",
       "      <td>0</td>\n",
       "      <td>67</td>\n",
       "      <td>9</td>\n",
       "      <td>1</td>\n",
       "      <td>1</td>\n",
       "    </tr>\n",
       "    <tr>\n",
       "      <th>1</th>\n",
       "      <td>0</td>\n",
       "      <td>6702</td>\n",
       "      <td>7</td>\n",
       "      <td>1</td>\n",
       "      <td>4</td>\n",
       "    </tr>\n",
       "    <tr>\n",
       "      <th>2</th>\n",
       "      <td>0</td>\n",
       "      <td>242</td>\n",
       "      <td>10</td>\n",
       "      <td>1</td>\n",
       "      <td>4</td>\n",
       "    </tr>\n",
       "    <tr>\n",
       "      <th>3</th>\n",
       "      <td>0</td>\n",
       "      <td>4898</td>\n",
       "      <td>0</td>\n",
       "      <td>1</td>\n",
       "      <td>1</td>\n",
       "    </tr>\n",
       "    <tr>\n",
       "      <th>4</th>\n",
       "      <td>0</td>\n",
       "      <td>21</td>\n",
       "      <td>10</td>\n",
       "      <td>1</td>\n",
       "      <td>0</td>\n",
       "    </tr>\n",
       "  </tbody>\n",
       "</table>\n",
       "</div>"
      ],
      "text/plain": [
       "   user_id  anime_id  rating  watching_status  watched_episodes\n",
       "0        0        67       9                1                 1\n",
       "1        0      6702       7                1                 4\n",
       "2        0       242      10                1                 4\n",
       "3        0      4898       0                1                 1\n",
       "4        0        21      10                1                 0"
      ]
     },
     "execution_count": 8,
     "metadata": {},
     "output_type": "execute_result"
    }
   ],
   "source": [
    "anime_user_rating_df.head()"
   ]
  },
  {
   "cell_type": "code",
   "execution_count": 9,
   "metadata": {
    "editable": true
   },
   "outputs": [],
   "source": [
    "User_rating_Dict = pd.read_csv('Anime user rating dictionary.csv')"
   ]
  },
  {
   "cell_type": "markdown",
   "metadata": {
    "editable": true
   },
   "source": [
    "#### Data Dictionary for Anime user rating"
   ]
  },
  {
   "cell_type": "code",
   "execution_count": 10,
   "metadata": {
    "editable": true
   },
   "outputs": [
    {
     "data": {
      "text/html": [
       "<div>\n",
       "<style scoped>\n",
       "    .dataframe tbody tr th:only-of-type {\n",
       "        vertical-align: middle;\n",
       "    }\n",
       "\n",
       "    .dataframe tbody tr th {\n",
       "        vertical-align: top;\n",
       "    }\n",
       "\n",
       "    .dataframe thead th {\n",
       "        text-align: right;\n",
       "    }\n",
       "</style>\n",
       "<table border=\"1\" class=\"dataframe\">\n",
       "  <thead>\n",
       "    <tr style=\"text-align: right;\">\n",
       "      <th></th>\n",
       "      <th>Column</th>\n",
       "      <th>Description</th>\n",
       "    </tr>\n",
       "  </thead>\n",
       "  <tbody>\n",
       "    <tr>\n",
       "      <th>0</th>\n",
       "      <td>user_id</td>\n",
       "      <td>non identifiable randomly generated user id.</td>\n",
       "    </tr>\n",
       "    <tr>\n",
       "      <th>1</th>\n",
       "      <td>anime_id</td>\n",
       "      <td>MyAnemlist ID of the anime. (e.g. 1).</td>\n",
       "    </tr>\n",
       "    <tr>\n",
       "      <th>2</th>\n",
       "      <td>score</td>\n",
       "      <td>score between 1 to 10 given by the user. 0 if...</td>\n",
       "    </tr>\n",
       "    <tr>\n",
       "      <th>3</th>\n",
       "      <td>watching_status</td>\n",
       "      <td>state ID from this anime in the anime list of...</td>\n",
       "    </tr>\n",
       "    <tr>\n",
       "      <th>4</th>\n",
       "      <td>watched_episodes</td>\n",
       "      <td>numbers of episodes watched by the user. (e.g...</td>\n",
       "    </tr>\n",
       "  </tbody>\n",
       "</table>\n",
       "</div>"
      ],
      "text/plain": [
       "             Column                                        Description\n",
       "0           user_id       non identifiable randomly generated user id.\n",
       "1          anime_id              MyAnemlist ID of the anime. (e.g. 1).\n",
       "2             score   score between 1 to 10 given by the user. 0 if...\n",
       "3   watching_status   state ID from this anime in the anime list of...\n",
       "4  watched_episodes   numbers of episodes watched by the user. (e.g..."
      ]
     },
     "execution_count": 10,
     "metadata": {},
     "output_type": "execute_result"
    }
   ],
   "source": [
    "User_rating_Dict.head() "
   ]
  },
  {
   "cell_type": "code",
   "execution_count": 11,
   "metadata": {
    "editable": true
   },
   "outputs": [],
   "source": [
    "watching_status_df = pd.read_csv('watching_status.csv')"
   ]
  },
  {
   "cell_type": "code",
   "execution_count": 12,
   "metadata": {
    "editable": true
   },
   "outputs": [
    {
     "data": {
      "text/html": [
       "<div>\n",
       "<style scoped>\n",
       "    .dataframe tbody tr th:only-of-type {\n",
       "        vertical-align: middle;\n",
       "    }\n",
       "\n",
       "    .dataframe tbody tr th {\n",
       "        vertical-align: top;\n",
       "    }\n",
       "\n",
       "    .dataframe thead th {\n",
       "        text-align: right;\n",
       "    }\n",
       "</style>\n",
       "<table border=\"1\" class=\"dataframe\">\n",
       "  <thead>\n",
       "    <tr style=\"text-align: right;\">\n",
       "      <th></th>\n",
       "      <th>status</th>\n",
       "      <th>description</th>\n",
       "    </tr>\n",
       "  </thead>\n",
       "  <tbody>\n",
       "    <tr>\n",
       "      <th>0</th>\n",
       "      <td>1</td>\n",
       "      <td>Currently Watching</td>\n",
       "    </tr>\n",
       "    <tr>\n",
       "      <th>1</th>\n",
       "      <td>2</td>\n",
       "      <td>Completed</td>\n",
       "    </tr>\n",
       "    <tr>\n",
       "      <th>2</th>\n",
       "      <td>3</td>\n",
       "      <td>On Hold</td>\n",
       "    </tr>\n",
       "    <tr>\n",
       "      <th>3</th>\n",
       "      <td>4</td>\n",
       "      <td>Dropped</td>\n",
       "    </tr>\n",
       "    <tr>\n",
       "      <th>4</th>\n",
       "      <td>6</td>\n",
       "      <td>Plan to Watch</td>\n",
       "    </tr>\n",
       "  </tbody>\n",
       "</table>\n",
       "</div>"
      ],
      "text/plain": [
       "   status         description\n",
       "0       1  Currently Watching\n",
       "1       2           Completed\n",
       "2       3             On Hold\n",
       "3       4             Dropped\n",
       "4       6       Plan to Watch"
      ]
     },
     "execution_count": 12,
     "metadata": {},
     "output_type": "execute_result"
    }
   ],
   "source": [
    "watching_status_df.head()"
   ]
  },
  {
   "cell_type": "code",
   "execution_count": 13,
   "metadata": {
    "editable": true
   },
   "outputs": [],
   "source": [
    "date_df =  pd.read_csv('date.csv')"
   ]
  },
  {
   "cell_type": "code",
   "execution_count": 14,
   "metadata": {
    "editable": true
   },
   "outputs": [
    {
     "data": {
      "text/html": [
       "<div>\n",
       "<style scoped>\n",
       "    .dataframe tbody tr th:only-of-type {\n",
       "        vertical-align: middle;\n",
       "    }\n",
       "\n",
       "    .dataframe tbody tr th {\n",
       "        vertical-align: top;\n",
       "    }\n",
       "\n",
       "    .dataframe thead th {\n",
       "        text-align: right;\n",
       "    }\n",
       "</style>\n",
       "<table border=\"1\" class=\"dataframe\">\n",
       "  <thead>\n",
       "    <tr style=\"text-align: right;\">\n",
       "      <th></th>\n",
       "      <th>Date</th>\n",
       "      <th>Calendar Year</th>\n",
       "      <th>Month Name</th>\n",
       "      <th>Month Number</th>\n",
       "      <th>Quarter</th>\n",
       "      <th>ID</th>\n",
       "    </tr>\n",
       "  </thead>\n",
       "  <tbody>\n",
       "    <tr>\n",
       "      <th>0</th>\n",
       "      <td>01/07/1900</td>\n",
       "      <td>1900</td>\n",
       "      <td>July</td>\n",
       "      <td>7</td>\n",
       "      <td>Q3</td>\n",
       "      <td>182</td>\n",
       "    </tr>\n",
       "    <tr>\n",
       "      <th>1</th>\n",
       "      <td>02/07/1900</td>\n",
       "      <td>1900</td>\n",
       "      <td>July</td>\n",
       "      <td>7</td>\n",
       "      <td>Q3</td>\n",
       "      <td>183</td>\n",
       "    </tr>\n",
       "    <tr>\n",
       "      <th>2</th>\n",
       "      <td>03/07/1900</td>\n",
       "      <td>1900</td>\n",
       "      <td>July</td>\n",
       "      <td>7</td>\n",
       "      <td>Q3</td>\n",
       "      <td>184</td>\n",
       "    </tr>\n",
       "    <tr>\n",
       "      <th>3</th>\n",
       "      <td>04/07/1900</td>\n",
       "      <td>1900</td>\n",
       "      <td>July</td>\n",
       "      <td>7</td>\n",
       "      <td>Q3</td>\n",
       "      <td>185</td>\n",
       "    </tr>\n",
       "    <tr>\n",
       "      <th>4</th>\n",
       "      <td>05/07/1900</td>\n",
       "      <td>1900</td>\n",
       "      <td>July</td>\n",
       "      <td>7</td>\n",
       "      <td>Q3</td>\n",
       "      <td>186</td>\n",
       "    </tr>\n",
       "  </tbody>\n",
       "</table>\n",
       "</div>"
      ],
      "text/plain": [
       "         Date  Calendar Year Month Name  Month Number Quarter   ID\n",
       "0  01/07/1900           1900       July             7      Q3  182\n",
       "1  02/07/1900           1900       July             7      Q3  183\n",
       "2  03/07/1900           1900       July             7      Q3  184\n",
       "3  04/07/1900           1900       July             7      Q3  185\n",
       "4  05/07/1900           1900       July             7      Q3  186"
      ]
     },
     "execution_count": 14,
     "metadata": {},
     "output_type": "execute_result"
    }
   ],
   "source": [
    "date_df.head()"
   ]
  },
  {
   "cell_type": "markdown",
   "metadata": {
    "editable": true
   },
   "source": [
    "### Step 2: Explore and Assess the Data\n",
    "#### Explore the Data \n",
    "After exploring anime dataframe, I noticed that:\n",
    "1. we have multiple series column that we may care for the first value more for ease of model training\n",
    "2. we have series column that need to be split for considering separate values\n",
    "3. date column is not in proper format that we can filter using date column\n",
    "\n",
    "#### Cleaning Steps\n",
    "In the following steps I will be handing each issue of the above mentioned using cleaning functions,\n",
    "that I defined in the script cleaning_functions and imported at the begining of the notebook"
   ]
  },
  {
   "cell_type": "code",
   "execution_count": 15,
   "metadata": {
    "editable": true
   },
   "outputs": [
    {
     "name": "stdout",
     "output_type": "stream",
     "text": [
      "null records were dropped from dataset\n",
      "Duplicate records were dropped from dataset\n",
      "list column Producers was converted to string by considering first value of list\n",
      "list column Studios was converted to string by considering first value of list\n",
      "list column Licensors was converted to string by considering first value of list\n",
      "columns ['Producers', 'Studios', 'Licensors', 'Premiered'] were dropped\n",
      "column Genres was split into 3 columns\n"
     ]
    }
   ],
   "source": [
    "cleaned_anime_df = clean.clean_dataset(df=anime_df,\n",
    "                                         series_columns = ['Producers','Studios','Licensors'],\n",
    "                                         columns_to_delete = ['Producers','Studios','Licensors','Premiered'],\n",
    "                                         columns_to_split=['Genres'],\n",
    "                                        splits = 3,\n",
    "                                        splitter = ',')"
   ]
  },
  {
   "cell_type": "code",
   "execution_count": 16,
   "metadata": {
    "editable": true
   },
   "outputs": [
    {
     "name": "stdout",
     "output_type": "stream",
     "text": [
      "string column Aired was replaced with date column First Show\n"
     ]
    }
   ],
   "source": [
    "cleaned_anime_df = clean.adjust_date_column(df=cleaned_anime_df,date_column = 'Aired',new_date ='First Show' )"
   ]
  },
  {
   "cell_type": "code",
   "execution_count": 17,
   "metadata": {
    "editable": true
   },
   "outputs": [
    {
     "data": {
      "text/html": [
       "<div>\n",
       "<style scoped>\n",
       "    .dataframe tbody tr th:only-of-type {\n",
       "        vertical-align: middle;\n",
       "    }\n",
       "\n",
       "    .dataframe tbody tr th {\n",
       "        vertical-align: top;\n",
       "    }\n",
       "\n",
       "    .dataframe thead th {\n",
       "        text-align: right;\n",
       "    }\n",
       "</style>\n",
       "<table border=\"1\" class=\"dataframe\">\n",
       "  <thead>\n",
       "    <tr style=\"text-align: right;\">\n",
       "      <th></th>\n",
       "      <th>MAL_ID</th>\n",
       "      <th>Name</th>\n",
       "      <th>Score</th>\n",
       "      <th>Genres</th>\n",
       "      <th>English name</th>\n",
       "      <th>Japanese name</th>\n",
       "      <th>Type</th>\n",
       "      <th>Episodes</th>\n",
       "      <th>Source</th>\n",
       "      <th>Duration</th>\n",
       "      <th>...</th>\n",
       "      <th>Score-3</th>\n",
       "      <th>Score-2</th>\n",
       "      <th>Score-1</th>\n",
       "      <th>Main Producers</th>\n",
       "      <th>Main Studios</th>\n",
       "      <th>Main Licensors</th>\n",
       "      <th>Genres1</th>\n",
       "      <th>Genres2</th>\n",
       "      <th>Genres3</th>\n",
       "      <th>First Show</th>\n",
       "    </tr>\n",
       "  </thead>\n",
       "  <tbody>\n",
       "    <tr>\n",
       "      <th>0</th>\n",
       "      <td>1</td>\n",
       "      <td>Cowboy Bebop</td>\n",
       "      <td>8.78</td>\n",
       "      <td>Action, Adventure, Comedy, Drama, Sci-Fi, Space</td>\n",
       "      <td>Cowboy Bebop</td>\n",
       "      <td>カウボーイビバップ</td>\n",
       "      <td>TV</td>\n",
       "      <td>26</td>\n",
       "      <td>Original</td>\n",
       "      <td>24 min. per ep.</td>\n",
       "      <td>...</td>\n",
       "      <td>1357.0</td>\n",
       "      <td>741.0</td>\n",
       "      <td>1580.0</td>\n",
       "      <td>Bandai Visual</td>\n",
       "      <td>Sunrise</td>\n",
       "      <td>Funimation</td>\n",
       "      <td>Action</td>\n",
       "      <td>Adventure</td>\n",
       "      <td>Comedy</td>\n",
       "      <td>1998-04-03</td>\n",
       "    </tr>\n",
       "    <tr>\n",
       "      <th>1</th>\n",
       "      <td>5</td>\n",
       "      <td>Cowboy Bebop: Tengoku no Tobira</td>\n",
       "      <td>8.39</td>\n",
       "      <td>Action, Drama, Mystery, Sci-Fi, Space</td>\n",
       "      <td>Cowboy Bebop:The Movie</td>\n",
       "      <td>カウボーイビバップ 天国の扉</td>\n",
       "      <td>Movie</td>\n",
       "      <td>1</td>\n",
       "      <td>Original</td>\n",
       "      <td>1 hr. 55 min.</td>\n",
       "      <td>...</td>\n",
       "      <td>221.0</td>\n",
       "      <td>109.0</td>\n",
       "      <td>379.0</td>\n",
       "      <td>Sunrise</td>\n",
       "      <td>Bones</td>\n",
       "      <td>Sony Pictures Entertainment</td>\n",
       "      <td>Action</td>\n",
       "      <td>Drama</td>\n",
       "      <td>Mystery</td>\n",
       "      <td>2001-09-01</td>\n",
       "    </tr>\n",
       "    <tr>\n",
       "      <th>2</th>\n",
       "      <td>6</td>\n",
       "      <td>Trigun</td>\n",
       "      <td>8.24</td>\n",
       "      <td>Action, Sci-Fi, Adventure, Comedy, Drama, Shounen</td>\n",
       "      <td>Trigun</td>\n",
       "      <td>トライガン</td>\n",
       "      <td>TV</td>\n",
       "      <td>26</td>\n",
       "      <td>Manga</td>\n",
       "      <td>24 min. per ep.</td>\n",
       "      <td>...</td>\n",
       "      <td>664.0</td>\n",
       "      <td>316.0</td>\n",
       "      <td>533.0</td>\n",
       "      <td>Victor Entertainment</td>\n",
       "      <td>Madhouse</td>\n",
       "      <td>Funimation</td>\n",
       "      <td>Action</td>\n",
       "      <td>Sci-Fi</td>\n",
       "      <td>Adventure</td>\n",
       "      <td>1998-04-01</td>\n",
       "    </tr>\n",
       "    <tr>\n",
       "      <th>3</th>\n",
       "      <td>7</td>\n",
       "      <td>Witch Hunter Robin</td>\n",
       "      <td>7.27</td>\n",
       "      <td>Action, Mystery, Police, Supernatural, Drama, ...</td>\n",
       "      <td>Witch Hunter Robin</td>\n",
       "      <td>Witch Hunter ROBIN (ウイッチハンターロビン)</td>\n",
       "      <td>TV</td>\n",
       "      <td>26</td>\n",
       "      <td>Original</td>\n",
       "      <td>25 min. per ep.</td>\n",
       "      <td>...</td>\n",
       "      <td>353.0</td>\n",
       "      <td>164.0</td>\n",
       "      <td>131.0</td>\n",
       "      <td>TV Tokyo</td>\n",
       "      <td>Sunrise</td>\n",
       "      <td>Funimation</td>\n",
       "      <td>Action</td>\n",
       "      <td>Mystery</td>\n",
       "      <td>Police</td>\n",
       "      <td>2002-07-02</td>\n",
       "    </tr>\n",
       "    <tr>\n",
       "      <th>4</th>\n",
       "      <td>8</td>\n",
       "      <td>Bouken Ou Beet</td>\n",
       "      <td>6.98</td>\n",
       "      <td>Adventure, Fantasy, Shounen, Supernatural</td>\n",
       "      <td>Beet the Vandel Buster</td>\n",
       "      <td>冒険王ビィト</td>\n",
       "      <td>TV</td>\n",
       "      <td>52</td>\n",
       "      <td>Manga</td>\n",
       "      <td>23 min. per ep.</td>\n",
       "      <td>...</td>\n",
       "      <td>83.0</td>\n",
       "      <td>50.0</td>\n",
       "      <td>27.0</td>\n",
       "      <td>TV Tokyo</td>\n",
       "      <td>Toei Animation</td>\n",
       "      <td>Unknown</td>\n",
       "      <td>Adventure</td>\n",
       "      <td>Fantasy</td>\n",
       "      <td>Shounen</td>\n",
       "      <td>2004-09-30</td>\n",
       "    </tr>\n",
       "  </tbody>\n",
       "</table>\n",
       "<p>5 rows × 37 columns</p>\n",
       "</div>"
      ],
      "text/plain": [
       "   MAL_ID                             Name Score  \\\n",
       "0       1                     Cowboy Bebop  8.78   \n",
       "1       5  Cowboy Bebop: Tengoku no Tobira  8.39   \n",
       "2       6                           Trigun  8.24   \n",
       "3       7               Witch Hunter Robin  7.27   \n",
       "4       8                   Bouken Ou Beet  6.98   \n",
       "\n",
       "                                              Genres            English name  \\\n",
       "0    Action, Adventure, Comedy, Drama, Sci-Fi, Space            Cowboy Bebop   \n",
       "1              Action, Drama, Mystery, Sci-Fi, Space  Cowboy Bebop:The Movie   \n",
       "2  Action, Sci-Fi, Adventure, Comedy, Drama, Shounen                  Trigun   \n",
       "3  Action, Mystery, Police, Supernatural, Drama, ...      Witch Hunter Robin   \n",
       "4          Adventure, Fantasy, Shounen, Supernatural  Beet the Vandel Buster   \n",
       "\n",
       "                      Japanese name   Type Episodes    Source  \\\n",
       "0                         カウボーイビバップ     TV       26  Original   \n",
       "1                    カウボーイビバップ 天国の扉  Movie        1  Original   \n",
       "2                             トライガン     TV       26     Manga   \n",
       "3  Witch Hunter ROBIN (ウイッチハンターロビン)     TV       26  Original   \n",
       "4                            冒険王ビィト     TV       52     Manga   \n",
       "\n",
       "          Duration     ...     Score-3 Score-2  Score-1        Main Producers  \\\n",
       "0  24 min. per ep.     ...      1357.0   741.0   1580.0         Bandai Visual   \n",
       "1    1 hr. 55 min.     ...       221.0   109.0    379.0               Sunrise   \n",
       "2  24 min. per ep.     ...       664.0   316.0    533.0  Victor Entertainment   \n",
       "3  25 min. per ep.     ...       353.0   164.0    131.0              TV Tokyo   \n",
       "4  23 min. per ep.     ...        83.0    50.0     27.0              TV Tokyo   \n",
       "\n",
       "     Main Studios               Main Licensors    Genres1    Genres2  \\\n",
       "0         Sunrise                   Funimation     Action  Adventure   \n",
       "1           Bones  Sony Pictures Entertainment     Action      Drama   \n",
       "2        Madhouse                   Funimation     Action     Sci-Fi   \n",
       "3         Sunrise                   Funimation     Action    Mystery   \n",
       "4  Toei Animation                      Unknown  Adventure    Fantasy   \n",
       "\n",
       "     Genres3  First Show  \n",
       "0     Comedy  1998-04-03  \n",
       "1    Mystery  2001-09-01  \n",
       "2  Adventure  1998-04-01  \n",
       "3     Police  2002-07-02  \n",
       "4    Shounen  2004-09-30  \n",
       "\n",
       "[5 rows x 37 columns]"
      ]
     },
     "execution_count": 17,
     "metadata": {},
     "output_type": "execute_result"
    }
   ],
   "source": [
    "cleaned_anime_df.head()"
   ]
  },
  {
   "cell_type": "code",
   "execution_count": 18,
   "metadata": {
    "editable": true
   },
   "outputs": [
    {
     "name": "stdout",
     "output_type": "stream",
     "text": [
      "null records were dropped from dataset\n",
      "Duplicate records were dropped from dataset\n"
     ]
    }
   ],
   "source": [
    "cleaned_anime_user_rating_df=clean.clean_dataset(df=anime_user_rating_df)"
   ]
  },
  {
   "cell_type": "code",
   "execution_count": 19,
   "metadata": {
    "editable": true
   },
   "outputs": [
    {
     "data": {
      "text/html": [
       "<div>\n",
       "<style scoped>\n",
       "    .dataframe tbody tr th:only-of-type {\n",
       "        vertical-align: middle;\n",
       "    }\n",
       "\n",
       "    .dataframe tbody tr th {\n",
       "        vertical-align: top;\n",
       "    }\n",
       "\n",
       "    .dataframe thead th {\n",
       "        text-align: right;\n",
       "    }\n",
       "</style>\n",
       "<table border=\"1\" class=\"dataframe\">\n",
       "  <thead>\n",
       "    <tr style=\"text-align: right;\">\n",
       "      <th></th>\n",
       "      <th>user_id</th>\n",
       "      <th>anime_id</th>\n",
       "      <th>rating</th>\n",
       "      <th>watching_status</th>\n",
       "      <th>watched_episodes</th>\n",
       "    </tr>\n",
       "  </thead>\n",
       "  <tbody>\n",
       "    <tr>\n",
       "      <th>0</th>\n",
       "      <td>0</td>\n",
       "      <td>67</td>\n",
       "      <td>9</td>\n",
       "      <td>1</td>\n",
       "      <td>1</td>\n",
       "    </tr>\n",
       "    <tr>\n",
       "      <th>1</th>\n",
       "      <td>0</td>\n",
       "      <td>6702</td>\n",
       "      <td>7</td>\n",
       "      <td>1</td>\n",
       "      <td>4</td>\n",
       "    </tr>\n",
       "    <tr>\n",
       "      <th>2</th>\n",
       "      <td>0</td>\n",
       "      <td>242</td>\n",
       "      <td>10</td>\n",
       "      <td>1</td>\n",
       "      <td>4</td>\n",
       "    </tr>\n",
       "    <tr>\n",
       "      <th>3</th>\n",
       "      <td>0</td>\n",
       "      <td>4898</td>\n",
       "      <td>0</td>\n",
       "      <td>1</td>\n",
       "      <td>1</td>\n",
       "    </tr>\n",
       "    <tr>\n",
       "      <th>4</th>\n",
       "      <td>0</td>\n",
       "      <td>21</td>\n",
       "      <td>10</td>\n",
       "      <td>1</td>\n",
       "      <td>0</td>\n",
       "    </tr>\n",
       "  </tbody>\n",
       "</table>\n",
       "</div>"
      ],
      "text/plain": [
       "   user_id  anime_id  rating  watching_status  watched_episodes\n",
       "0        0        67       9                1                 1\n",
       "1        0      6702       7                1                 4\n",
       "2        0       242      10                1                 4\n",
       "3        0      4898       0                1                 1\n",
       "4        0        21      10                1                 0"
      ]
     },
     "execution_count": 19,
     "metadata": {},
     "output_type": "execute_result"
    }
   ],
   "source": [
    "cleaned_anime_user_rating_df.head()"
   ]
  },
  {
   "cell_type": "markdown",
   "metadata": {
    "editable": true
   },
   "source": [
    "### Step 3: Define the Data Model\n",
    "#### 3.1 Conceptual Data Model\n",
    "<img src=\"b.jpg\" alt=\"Alternative text\" />\n",
    "\n",
    "\n",
    "#### 3.2 Mapping Out Data Pipelines\n",
    "##### To get data into the above schema,\n",
    "data should be loaded into staging tables\n",
    "\n",
    "Create Dimension and Facts tables\n",
    "\n",
    "insert into dimensions and facts"
   ]
  },
  {
   "cell_type": "markdown",
   "metadata": {
    "editable": true
   },
   "source": [
    "### Step 4: Run Pipelines to Model the Data \n",
    "#### 4.1 Create the data model\n",
    "Build the data pipelines to create the data model."
   ]
  },
  {
   "cell_type": "markdown",
   "metadata": {
    "editable": true
   },
   "source": [
    "#### Load into staging"
   ]
  },
  {
   "cell_type": "code",
   "execution_count": 20,
   "metadata": {
    "editable": true
   },
   "outputs": [],
   "source": [
    "from pyspark.sql import SparkSession\n",
    "\n",
    "spark = SparkSession.builder.\\\n",
    "config(\"spark.jars.repositories\", \"https://repos.spark-packages.org/\").\\\n",
    "config(\"spark.jars.packages\", \"saurfang:spark-sas7bdat:2.0.0-s_2.11\").\\\n",
    "enableHiveSupport().getOrCreate()\n",
    "\n",
    "df_spark = spark.read.format('com.github.saurfang.sas.spark').load('../../data/18-83510-I94-Data-2016/i94_apr16_sub.sas7bdat')\n"
   ]
  },
  {
   "cell_type": "code",
   "execution_count": 21,
   "metadata": {
    "editable": true
   },
   "outputs": [],
   "source": [
    "anime_schema = StructType([StructField(\"MAL_ID\", IntegerType(), True)\\\n",
    "                          ,StructField(\"Name\", StringType(), True)\\\n",
    "                          ,StructField(\"Score\", StringType(), True)\\\n",
    "                          ,StructField(\"Genres\", StringType(), True)\\\n",
    "                          ,StructField(\"English_Name\", StringType(), True)\\\n",
    "                          ,StructField(\"Japanese_Name\", StringType(), True)\\\n",
    "                          ,StructField(\"Type\", StringType(), True)\\\n",
    "                          ,StructField(\"Epoisodes\", StringType(), True)\\\n",
    "                          ,StructField(\"Source\", StringType(), True)\\\n",
    "                          ,StructField(\"Duration\", StringType(), True)\\\n",
    "                          ,StructField(\"Rating\", StringType(), True)\\\n",
    "                          ,StructField(\"Ranked\", StringType(), True)\\\n",
    "                          ,StructField(\"Popularity\", StringType(), True)\\\n",
    "                          ,StructField(\"Members\", StringType(), True)\\\n",
    "                          ,StructField(\"Favorites\",StringType(), True)\\\n",
    "                          ,StructField(\"Watching\",StringType(), True)\\\n",
    "                          ,StructField(\"Completed\", StringType(), True)\\\n",
    "                          ,StructField(\"On-Hold\", StringType(), True)\\\n",
    "                          ,StructField(\"Dropped\", StringType(), True)\\\n",
    "                          ,StructField(\"Plan_to_Watch\", StringType(), True)\\\n",
    "                          ,StructField(\"Score-10\", StringType(), True)\\\n",
    "                          ,StructField(\"Score-1\", StringType(), True)\\\n",
    "                          ,StructField(\"Score-2\", StringType(), True)\\\n",
    "                          ,StructField(\"Score-3\", StringType(), True)\\\n",
    "                          ,StructField(\"Score-4\", StringType(), True)\\\n",
    "                          ,StructField(\"Score-5\", StringType(), True)\\\n",
    "                          ,StructField(\"Score-6\", StringType(), True)\\\n",
    "                          ,StructField(\"Score-7\", StringType(), True)\\\n",
    "                          ,StructField(\"Score-8\", StringType(), True)\\\n",
    "                          ,StructField(\"Score-9\", StringType(), True)\\\n",
    "                          ,StructField(\"Main_Producers\", StringType(), True)\\\n",
    "                          ,StructField(\"Main_Studios\", StringType(), True)\\\n",
    "                          ,StructField(\"Main_Licensors\", StringType(), True)\\\n",
    "                          ,StructField(\"Genres1\", StringType(), True)\\\n",
    "                          ,StructField(\"Genres2\", StringType(), True)\\\n",
    "                          ,StructField(\"Genres3\", StringType(), True)\\\n",
    "                          ,StructField(\"First_Show\", DateType(), True)])\n",
    "anime_spark = spark.createDataFrame(cleaned_anime_df, schema=anime_schema)"
   ]
  },
  {
   "cell_type": "code",
   "execution_count": 22,
   "metadata": {
    "editable": true
   },
   "outputs": [
    {
     "data": {
      "text/html": [
       "<div>\n",
       "<style scoped>\n",
       "    .dataframe tbody tr th:only-of-type {\n",
       "        vertical-align: middle;\n",
       "    }\n",
       "\n",
       "    .dataframe tbody tr th {\n",
       "        vertical-align: top;\n",
       "    }\n",
       "\n",
       "    .dataframe thead th {\n",
       "        text-align: right;\n",
       "    }\n",
       "</style>\n",
       "<table border=\"1\" class=\"dataframe\">\n",
       "  <thead>\n",
       "    <tr style=\"text-align: right;\">\n",
       "      <th></th>\n",
       "      <th>MAL_ID</th>\n",
       "      <th>Name</th>\n",
       "      <th>Score</th>\n",
       "      <th>Genres</th>\n",
       "      <th>English_Name</th>\n",
       "      <th>Japanese_Name</th>\n",
       "      <th>Type</th>\n",
       "      <th>Epoisodes</th>\n",
       "      <th>Source</th>\n",
       "      <th>Duration</th>\n",
       "      <th>...</th>\n",
       "      <th>Score-7</th>\n",
       "      <th>Score-8</th>\n",
       "      <th>Score-9</th>\n",
       "      <th>Main_Producers</th>\n",
       "      <th>Main_Studios</th>\n",
       "      <th>Main_Licensors</th>\n",
       "      <th>Genres1</th>\n",
       "      <th>Genres2</th>\n",
       "      <th>Genres3</th>\n",
       "      <th>First_Show</th>\n",
       "    </tr>\n",
       "  </thead>\n",
       "  <tbody>\n",
       "    <tr>\n",
       "      <th>0</th>\n",
       "      <td>1</td>\n",
       "      <td>Cowboy Bebop</td>\n",
       "      <td>8.78</td>\n",
       "      <td>Action, Adventure, Comedy, Drama, Sci-Fi, Space</td>\n",
       "      <td>Cowboy Bebop</td>\n",
       "      <td>カウボーイビバップ</td>\n",
       "      <td>TV</td>\n",
       "      <td>26</td>\n",
       "      <td>Original</td>\n",
       "      <td>24 min. per ep.</td>\n",
       "      <td>...</td>\n",
       "      <td>1357.0</td>\n",
       "      <td>741.0</td>\n",
       "      <td>1580.0</td>\n",
       "      <td>Bandai Visual</td>\n",
       "      <td>Sunrise</td>\n",
       "      <td>Funimation</td>\n",
       "      <td>Action</td>\n",
       "      <td>Adventure</td>\n",
       "      <td>Comedy</td>\n",
       "      <td>1998-04-03</td>\n",
       "    </tr>\n",
       "    <tr>\n",
       "      <th>1</th>\n",
       "      <td>5</td>\n",
       "      <td>Cowboy Bebop: Tengoku no Tobira</td>\n",
       "      <td>8.39</td>\n",
       "      <td>Action, Drama, Mystery, Sci-Fi, Space</td>\n",
       "      <td>Cowboy Bebop:The Movie</td>\n",
       "      <td>カウボーイビバップ 天国の扉</td>\n",
       "      <td>Movie</td>\n",
       "      <td>1</td>\n",
       "      <td>Original</td>\n",
       "      <td>1 hr. 55 min.</td>\n",
       "      <td>...</td>\n",
       "      <td>221.0</td>\n",
       "      <td>109.0</td>\n",
       "      <td>379.0</td>\n",
       "      <td>Sunrise</td>\n",
       "      <td>Bones</td>\n",
       "      <td>Sony Pictures Entertainment</td>\n",
       "      <td>Action</td>\n",
       "      <td>Drama</td>\n",
       "      <td>Mystery</td>\n",
       "      <td>2001-09-01</td>\n",
       "    </tr>\n",
       "    <tr>\n",
       "      <th>2</th>\n",
       "      <td>6</td>\n",
       "      <td>Trigun</td>\n",
       "      <td>8.24</td>\n",
       "      <td>Action, Sci-Fi, Adventure, Comedy, Drama, Shounen</td>\n",
       "      <td>Trigun</td>\n",
       "      <td>トライガン</td>\n",
       "      <td>TV</td>\n",
       "      <td>26</td>\n",
       "      <td>Manga</td>\n",
       "      <td>24 min. per ep.</td>\n",
       "      <td>...</td>\n",
       "      <td>664.0</td>\n",
       "      <td>316.0</td>\n",
       "      <td>533.0</td>\n",
       "      <td>Victor Entertainment</td>\n",
       "      <td>Madhouse</td>\n",
       "      <td>Funimation</td>\n",
       "      <td>Action</td>\n",
       "      <td>Sci-Fi</td>\n",
       "      <td>Adventure</td>\n",
       "      <td>1998-04-01</td>\n",
       "    </tr>\n",
       "    <tr>\n",
       "      <th>3</th>\n",
       "      <td>7</td>\n",
       "      <td>Witch Hunter Robin</td>\n",
       "      <td>7.27</td>\n",
       "      <td>Action, Mystery, Police, Supernatural, Drama, ...</td>\n",
       "      <td>Witch Hunter Robin</td>\n",
       "      <td>Witch Hunter ROBIN (ウイッチハンターロビン)</td>\n",
       "      <td>TV</td>\n",
       "      <td>26</td>\n",
       "      <td>Original</td>\n",
       "      <td>25 min. per ep.</td>\n",
       "      <td>...</td>\n",
       "      <td>353.0</td>\n",
       "      <td>164.0</td>\n",
       "      <td>131.0</td>\n",
       "      <td>TV Tokyo</td>\n",
       "      <td>Sunrise</td>\n",
       "      <td>Funimation</td>\n",
       "      <td>Action</td>\n",
       "      <td>Mystery</td>\n",
       "      <td>Police</td>\n",
       "      <td>2002-07-02</td>\n",
       "    </tr>\n",
       "    <tr>\n",
       "      <th>4</th>\n",
       "      <td>8</td>\n",
       "      <td>Bouken Ou Beet</td>\n",
       "      <td>6.98</td>\n",
       "      <td>Adventure, Fantasy, Shounen, Supernatural</td>\n",
       "      <td>Beet the Vandel Buster</td>\n",
       "      <td>冒険王ビィト</td>\n",
       "      <td>TV</td>\n",
       "      <td>52</td>\n",
       "      <td>Manga</td>\n",
       "      <td>23 min. per ep.</td>\n",
       "      <td>...</td>\n",
       "      <td>83.0</td>\n",
       "      <td>50.0</td>\n",
       "      <td>27.0</td>\n",
       "      <td>TV Tokyo</td>\n",
       "      <td>Toei Animation</td>\n",
       "      <td>Unknown</td>\n",
       "      <td>Adventure</td>\n",
       "      <td>Fantasy</td>\n",
       "      <td>Shounen</td>\n",
       "      <td>2004-09-30</td>\n",
       "    </tr>\n",
       "  </tbody>\n",
       "</table>\n",
       "<p>5 rows × 37 columns</p>\n",
       "</div>"
      ],
      "text/plain": [
       "   MAL_ID                             Name Score  \\\n",
       "0       1                     Cowboy Bebop  8.78   \n",
       "1       5  Cowboy Bebop: Tengoku no Tobira  8.39   \n",
       "2       6                           Trigun  8.24   \n",
       "3       7               Witch Hunter Robin  7.27   \n",
       "4       8                   Bouken Ou Beet  6.98   \n",
       "\n",
       "                                              Genres            English_Name  \\\n",
       "0    Action, Adventure, Comedy, Drama, Sci-Fi, Space            Cowboy Bebop   \n",
       "1              Action, Drama, Mystery, Sci-Fi, Space  Cowboy Bebop:The Movie   \n",
       "2  Action, Sci-Fi, Adventure, Comedy, Drama, Shounen                  Trigun   \n",
       "3  Action, Mystery, Police, Supernatural, Drama, ...      Witch Hunter Robin   \n",
       "4          Adventure, Fantasy, Shounen, Supernatural  Beet the Vandel Buster   \n",
       "\n",
       "                      Japanese_Name   Type Epoisodes    Source  \\\n",
       "0                         カウボーイビバップ     TV        26  Original   \n",
       "1                    カウボーイビバップ 天国の扉  Movie         1  Original   \n",
       "2                             トライガン     TV        26     Manga   \n",
       "3  Witch Hunter ROBIN (ウイッチハンターロビン)     TV        26  Original   \n",
       "4                            冒険王ビィト     TV        52     Manga   \n",
       "\n",
       "          Duration     ...     Score-7 Score-8 Score-9        Main_Producers  \\\n",
       "0  24 min. per ep.     ...      1357.0   741.0  1580.0         Bandai Visual   \n",
       "1    1 hr. 55 min.     ...       221.0   109.0   379.0               Sunrise   \n",
       "2  24 min. per ep.     ...       664.0   316.0   533.0  Victor Entertainment   \n",
       "3  25 min. per ep.     ...       353.0   164.0   131.0              TV Tokyo   \n",
       "4  23 min. per ep.     ...        83.0    50.0    27.0              TV Tokyo   \n",
       "\n",
       "     Main_Studios               Main_Licensors    Genres1    Genres2  \\\n",
       "0         Sunrise                   Funimation     Action  Adventure   \n",
       "1           Bones  Sony Pictures Entertainment     Action      Drama   \n",
       "2        Madhouse                   Funimation     Action     Sci-Fi   \n",
       "3         Sunrise                   Funimation     Action    Mystery   \n",
       "4  Toei Animation                      Unknown  Adventure    Fantasy   \n",
       "\n",
       "     Genres3  First_Show  \n",
       "0     Comedy  1998-04-03  \n",
       "1    Mystery  2001-09-01  \n",
       "2  Adventure  1998-04-01  \n",
       "3     Police  2002-07-02  \n",
       "4    Shounen  2004-09-30  \n",
       "\n",
       "[5 rows x 37 columns]"
      ]
     },
     "execution_count": 22,
     "metadata": {},
     "output_type": "execute_result"
    }
   ],
   "source": [
    "anime_spark.toPandas().head()"
   ]
  },
  {
   "cell_type": "code",
   "execution_count": 23,
   "metadata": {
    "editable": true
   },
   "outputs": [],
   "source": [
    "anime_viewer_schema = StructType([StructField(\"User_ID\", IntegerType(), True)\\\n",
    "                          ,StructField(\"Anime_ID\", IntegerType(), True)\\\n",
    "                          ,StructField(\"Rating\", IntegerType(), True)\\\n",
    "                          ,StructField(\"Watching_Status_ID\", IntegerType(), True)\\\n",
    "                          ,StructField(\"Watched_Episodes\",IntegerType(), True)])\n",
    "anime_viewer_spark = spark.createDataFrame(cleaned_anime_user_rating_df, schema=anime_viewer_schema )"
   ]
  },
  {
   "cell_type": "code",
   "execution_count": 24,
   "metadata": {
    "editable": true
   },
   "outputs": [
    {
     "data": {
      "text/html": [
       "<div>\n",
       "<style scoped>\n",
       "    .dataframe tbody tr th:only-of-type {\n",
       "        vertical-align: middle;\n",
       "    }\n",
       "\n",
       "    .dataframe tbody tr th {\n",
       "        vertical-align: top;\n",
       "    }\n",
       "\n",
       "    .dataframe thead th {\n",
       "        text-align: right;\n",
       "    }\n",
       "</style>\n",
       "<table border=\"1\" class=\"dataframe\">\n",
       "  <thead>\n",
       "    <tr style=\"text-align: right;\">\n",
       "      <th></th>\n",
       "      <th>User_ID</th>\n",
       "      <th>Anime_ID</th>\n",
       "      <th>Rating</th>\n",
       "      <th>Watching_Status_ID</th>\n",
       "      <th>Watched_Episodes</th>\n",
       "    </tr>\n",
       "  </thead>\n",
       "  <tbody>\n",
       "    <tr>\n",
       "      <th>0</th>\n",
       "      <td>0</td>\n",
       "      <td>67</td>\n",
       "      <td>9</td>\n",
       "      <td>1</td>\n",
       "      <td>1</td>\n",
       "    </tr>\n",
       "    <tr>\n",
       "      <th>1</th>\n",
       "      <td>0</td>\n",
       "      <td>6702</td>\n",
       "      <td>7</td>\n",
       "      <td>1</td>\n",
       "      <td>4</td>\n",
       "    </tr>\n",
       "    <tr>\n",
       "      <th>2</th>\n",
       "      <td>0</td>\n",
       "      <td>242</td>\n",
       "      <td>10</td>\n",
       "      <td>1</td>\n",
       "      <td>4</td>\n",
       "    </tr>\n",
       "    <tr>\n",
       "      <th>3</th>\n",
       "      <td>0</td>\n",
       "      <td>4898</td>\n",
       "      <td>0</td>\n",
       "      <td>1</td>\n",
       "      <td>1</td>\n",
       "    </tr>\n",
       "    <tr>\n",
       "      <th>4</th>\n",
       "      <td>0</td>\n",
       "      <td>21</td>\n",
       "      <td>10</td>\n",
       "      <td>1</td>\n",
       "      <td>0</td>\n",
       "    </tr>\n",
       "  </tbody>\n",
       "</table>\n",
       "</div>"
      ],
      "text/plain": [
       "   User_ID  Anime_ID  Rating  Watching_Status_ID  Watched_Episodes\n",
       "0        0        67       9                   1                 1\n",
       "1        0      6702       7                   1                 4\n",
       "2        0       242      10                   1                 4\n",
       "3        0      4898       0                   1                 1\n",
       "4        0        21      10                   1                 0"
      ]
     },
     "execution_count": 24,
     "metadata": {},
     "output_type": "execute_result"
    }
   ],
   "source": [
    "anime_viewer_spark.toPandas().head()"
   ]
  },
  {
   "cell_type": "code",
   "execution_count": 25,
   "metadata": {
    "editable": true
   },
   "outputs": [],
   "source": [
    "date_schema = StructType([StructField(\"Date\", StringType(), True)\\\n",
    "                          ,StructField(\"Year\", IntegerType(), True)\\\n",
    "                          ,StructField(\"Month_Name\", StringType(), True)\\\n",
    "                          ,StructField(\"Month\", IntegerType(), True)\\\n",
    "                          ,StructField(\"Quarter\", StringType(), True)\\\n",
    "                         ,StructField(\"ID\", IntegerType(), True)])\n",
    "date_spark = spark.createDataFrame(date_df,schema = date_schema)"
   ]
  },
  {
   "cell_type": "code",
   "execution_count": 26,
   "metadata": {
    "editable": true
   },
   "outputs": [
    {
     "data": {
      "text/html": [
       "<div>\n",
       "<style scoped>\n",
       "    .dataframe tbody tr th:only-of-type {\n",
       "        vertical-align: middle;\n",
       "    }\n",
       "\n",
       "    .dataframe tbody tr th {\n",
       "        vertical-align: top;\n",
       "    }\n",
       "\n",
       "    .dataframe thead th {\n",
       "        text-align: right;\n",
       "    }\n",
       "</style>\n",
       "<table border=\"1\" class=\"dataframe\">\n",
       "  <thead>\n",
       "    <tr style=\"text-align: right;\">\n",
       "      <th></th>\n",
       "      <th>Date</th>\n",
       "      <th>Year</th>\n",
       "      <th>Month_Name</th>\n",
       "      <th>Month</th>\n",
       "      <th>Quarter</th>\n",
       "      <th>ID</th>\n",
       "    </tr>\n",
       "  </thead>\n",
       "  <tbody>\n",
       "    <tr>\n",
       "      <th>0</th>\n",
       "      <td>01/07/1900</td>\n",
       "      <td>1900</td>\n",
       "      <td>July</td>\n",
       "      <td>7</td>\n",
       "      <td>Q3</td>\n",
       "      <td>182</td>\n",
       "    </tr>\n",
       "    <tr>\n",
       "      <th>1</th>\n",
       "      <td>02/07/1900</td>\n",
       "      <td>1900</td>\n",
       "      <td>July</td>\n",
       "      <td>7</td>\n",
       "      <td>Q3</td>\n",
       "      <td>183</td>\n",
       "    </tr>\n",
       "    <tr>\n",
       "      <th>2</th>\n",
       "      <td>03/07/1900</td>\n",
       "      <td>1900</td>\n",
       "      <td>July</td>\n",
       "      <td>7</td>\n",
       "      <td>Q3</td>\n",
       "      <td>184</td>\n",
       "    </tr>\n",
       "    <tr>\n",
       "      <th>3</th>\n",
       "      <td>04/07/1900</td>\n",
       "      <td>1900</td>\n",
       "      <td>July</td>\n",
       "      <td>7</td>\n",
       "      <td>Q3</td>\n",
       "      <td>185</td>\n",
       "    </tr>\n",
       "    <tr>\n",
       "      <th>4</th>\n",
       "      <td>05/07/1900</td>\n",
       "      <td>1900</td>\n",
       "      <td>July</td>\n",
       "      <td>7</td>\n",
       "      <td>Q3</td>\n",
       "      <td>186</td>\n",
       "    </tr>\n",
       "  </tbody>\n",
       "</table>\n",
       "</div>"
      ],
      "text/plain": [
       "         Date  Year Month_Name  Month Quarter   ID\n",
       "0  01/07/1900  1900       July      7      Q3  182\n",
       "1  02/07/1900  1900       July      7      Q3  183\n",
       "2  03/07/1900  1900       July      7      Q3  184\n",
       "3  04/07/1900  1900       July      7      Q3  185\n",
       "4  05/07/1900  1900       July      7      Q3  186"
      ]
     },
     "execution_count": 26,
     "metadata": {},
     "output_type": "execute_result"
    }
   ],
   "source": [
    "date_spark.toPandas().head()"
   ]
  },
  {
   "cell_type": "code",
   "execution_count": 27,
   "metadata": {
    "editable": true
   },
   "outputs": [],
   "source": [
    "status_schema = StructType([StructField(\"Status_ID\", IntegerType(), True)\\\n",
    "                          ,StructField(\"Status_Description\", StringType(), True)])\n",
    "\n",
    "status_spark = spark.createDataFrame(watching_status_df,schema =status_schema)"
   ]
  },
  {
   "cell_type": "code",
   "execution_count": 28,
   "metadata": {
    "editable": true
   },
   "outputs": [
    {
     "data": {
      "text/html": [
       "<div>\n",
       "<style scoped>\n",
       "    .dataframe tbody tr th:only-of-type {\n",
       "        vertical-align: middle;\n",
       "    }\n",
       "\n",
       "    .dataframe tbody tr th {\n",
       "        vertical-align: top;\n",
       "    }\n",
       "\n",
       "    .dataframe thead th {\n",
       "        text-align: right;\n",
       "    }\n",
       "</style>\n",
       "<table border=\"1\" class=\"dataframe\">\n",
       "  <thead>\n",
       "    <tr style=\"text-align: right;\">\n",
       "      <th></th>\n",
       "      <th>Status_ID</th>\n",
       "      <th>Status_Description</th>\n",
       "    </tr>\n",
       "  </thead>\n",
       "  <tbody>\n",
       "    <tr>\n",
       "      <th>0</th>\n",
       "      <td>1</td>\n",
       "      <td>Currently Watching</td>\n",
       "    </tr>\n",
       "    <tr>\n",
       "      <th>1</th>\n",
       "      <td>2</td>\n",
       "      <td>Completed</td>\n",
       "    </tr>\n",
       "    <tr>\n",
       "      <th>2</th>\n",
       "      <td>3</td>\n",
       "      <td>On Hold</td>\n",
       "    </tr>\n",
       "    <tr>\n",
       "      <th>3</th>\n",
       "      <td>4</td>\n",
       "      <td>Dropped</td>\n",
       "    </tr>\n",
       "    <tr>\n",
       "      <th>4</th>\n",
       "      <td>6</td>\n",
       "      <td>Plan to Watch</td>\n",
       "    </tr>\n",
       "  </tbody>\n",
       "</table>\n",
       "</div>"
      ],
      "text/plain": [
       "   Status_ID  Status_Description\n",
       "0          1  Currently Watching\n",
       "1          2           Completed\n",
       "2          3             On Hold\n",
       "3          4             Dropped\n",
       "4          6       Plan to Watch"
      ]
     },
     "execution_count": 28,
     "metadata": {},
     "output_type": "execute_result"
    }
   ],
   "source": [
    "status_spark.toPandas().head()"
   ]
  },
  {
   "cell_type": "code",
   "execution_count": 29,
   "metadata": {
    "editable": true
   },
   "outputs": [
    {
     "data": {
      "text/plain": [
       "Index(['Status_ID', 'Status_Description'], dtype='object')"
      ]
     },
     "execution_count": 29,
     "metadata": {},
     "output_type": "execute_result"
    }
   ],
   "source": [
    "status_spark.toPandas().columns"
   ]
  },
  {
   "cell_type": "markdown",
   "metadata": {
    "editable": true
   },
   "source": [
    "#### Load into Dimensions and Facts"
   ]
  },
  {
   "cell_type": "code",
   "execution_count": 30,
   "metadata": {
    "editable": true
   },
   "outputs": [],
   "source": [
    "output_path = \"tables/\""
   ]
  },
  {
   "cell_type": "code",
   "execution_count": 31,
   "metadata": {
    "editable": true
   },
   "outputs": [
    {
     "name": "stdout",
     "output_type": "stream",
     "text": [
      "Table DimAnime was witten successfully to tables/DimAnime\n"
     ]
    }
   ],
   "source": [
    "ct.create_dim_anime(anime_spark, output_path)"
   ]
  },
  {
   "cell_type": "code",
   "execution_count": 32,
   "metadata": {
    "editable": true
   },
   "outputs": [
    {
     "data": {
      "text/html": [
       "<div>\n",
       "<style scoped>\n",
       "    .dataframe tbody tr th:only-of-type {\n",
       "        vertical-align: middle;\n",
       "    }\n",
       "\n",
       "    .dataframe tbody tr th {\n",
       "        vertical-align: top;\n",
       "    }\n",
       "\n",
       "    .dataframe thead th {\n",
       "        text-align: right;\n",
       "    }\n",
       "</style>\n",
       "<table border=\"1\" class=\"dataframe\">\n",
       "  <thead>\n",
       "    <tr style=\"text-align: right;\">\n",
       "      <th></th>\n",
       "      <th>MAL_ID</th>\n",
       "      <th>Name</th>\n",
       "      <th>English_Name</th>\n",
       "      <th>Japanese_Name</th>\n",
       "      <th>Type</th>\n",
       "      <th>Main_Studios</th>\n",
       "      <th>Main_Producers</th>\n",
       "      <th>Main_Licensors</th>\n",
       "      <th>Source</th>\n",
       "      <th>Rating</th>\n",
       "      <th>Genres1</th>\n",
       "      <th>Genres2</th>\n",
       "      <th>Genres3</th>\n",
       "    </tr>\n",
       "  </thead>\n",
       "  <tbody>\n",
       "    <tr>\n",
       "      <th>0</th>\n",
       "      <td>57</td>\n",
       "      <td>Beck</td>\n",
       "      <td>Beck:Mongolian Chop Squad</td>\n",
       "      <td>ベック</td>\n",
       "      <td>TV</td>\n",
       "      <td>Madhouse</td>\n",
       "      <td>Marvelous</td>\n",
       "      <td>Funimation</td>\n",
       "      <td>Manga</td>\n",
       "      <td>R - 17+ (violence &amp; profanity)</td>\n",
       "      <td>Comedy</td>\n",
       "      <td>Drama</td>\n",
       "      <td>Music</td>\n",
       "    </tr>\n",
       "    <tr>\n",
       "      <th>1</th>\n",
       "      <td>570</td>\n",
       "      <td>Jin-Rou</td>\n",
       "      <td>Jin-Roh:The Wolf Brigade</td>\n",
       "      <td>人狼 JIN-ROH</td>\n",
       "      <td>Movie</td>\n",
       "      <td>Production I.G</td>\n",
       "      <td>Unknown</td>\n",
       "      <td>Bandai Entertainment</td>\n",
       "      <td>Manga</td>\n",
       "      <td>R - 17+ (violence &amp; profanity)</td>\n",
       "      <td>Military</td>\n",
       "      <td>Police</td>\n",
       "      <td>Psychological</td>\n",
       "    </tr>\n",
       "    <tr>\n",
       "      <th>2</th>\n",
       "      <td>868</td>\n",
       "      <td>Slayers Great</td>\n",
       "      <td>Slayers Movie 3</td>\n",
       "      <td>スレーヤーズぐれえと</td>\n",
       "      <td>Movie</td>\n",
       "      <td>J.C.Staff</td>\n",
       "      <td>TV Tokyo</td>\n",
       "      <td>ADV Films</td>\n",
       "      <td>Light novel</td>\n",
       "      <td>PG-13 - Teens 13 or older</td>\n",
       "      <td>Adventure</td>\n",
       "      <td>Comedy</td>\n",
       "      <td>Fantasy</td>\n",
       "    </tr>\n",
       "    <tr>\n",
       "      <th>3</th>\n",
       "      <td>920</td>\n",
       "      <td>Nurse Witch Komugi-chan Magikarte Special</td>\n",
       "      <td>Unknown</td>\n",
       "      <td>閑話休題すぺしゃる ～再び祭りの予感でワッショイ!～</td>\n",
       "      <td>Special</td>\n",
       "      <td>Kyoto Animation</td>\n",
       "      <td>Rondo Robe</td>\n",
       "      <td>ADV Films</td>\n",
       "      <td>Original</td>\n",
       "      <td>PG-13 - Teens 13 or older</td>\n",
       "      <td>Comedy</td>\n",
       "      <td>Magic</td>\n",
       "      <td>Parody</td>\n",
       "    </tr>\n",
       "    <tr>\n",
       "      <th>4</th>\n",
       "      <td>1026</td>\n",
       "      <td>Yakumotatsu</td>\n",
       "      <td>Eight Clouds Rising</td>\n",
       "      <td>八雲立つ</td>\n",
       "      <td>OVA</td>\n",
       "      <td>Studio Pierrot</td>\n",
       "      <td>Bandai Visual</td>\n",
       "      <td>Media Blasters</td>\n",
       "      <td>Manga</td>\n",
       "      <td>PG-13 - Teens 13 or older</td>\n",
       "      <td>Adventure</td>\n",
       "      <td>Supernatural</td>\n",
       "      <td>Historical</td>\n",
       "    </tr>\n",
       "  </tbody>\n",
       "</table>\n",
       "</div>"
      ],
      "text/plain": [
       "   MAL_ID                                       Name  \\\n",
       "0      57                                       Beck   \n",
       "1     570                                    Jin-Rou   \n",
       "2     868                              Slayers Great   \n",
       "3     920  Nurse Witch Komugi-chan Magikarte Special   \n",
       "4    1026                                Yakumotatsu   \n",
       "\n",
       "                English_Name               Japanese_Name     Type  \\\n",
       "0  Beck:Mongolian Chop Squad                         ベック       TV   \n",
       "1   Jin-Roh:The Wolf Brigade                  人狼 JIN-ROH    Movie   \n",
       "2            Slayers Movie 3                  スレーヤーズぐれえと    Movie   \n",
       "3                    Unknown  閑話休題すぺしゃる ～再び祭りの予感でワッショイ!～  Special   \n",
       "4        Eight Clouds Rising                        八雲立つ      OVA   \n",
       "\n",
       "      Main_Studios Main_Producers        Main_Licensors       Source  \\\n",
       "0         Madhouse      Marvelous            Funimation        Manga   \n",
       "1   Production I.G        Unknown  Bandai Entertainment        Manga   \n",
       "2        J.C.Staff       TV Tokyo             ADV Films  Light novel   \n",
       "3  Kyoto Animation     Rondo Robe             ADV Films     Original   \n",
       "4   Studio Pierrot  Bandai Visual        Media Blasters        Manga   \n",
       "\n",
       "                           Rating    Genres1       Genres2        Genres3  \n",
       "0  R - 17+ (violence & profanity)     Comedy         Drama          Music  \n",
       "1  R - 17+ (violence & profanity)   Military        Police  Psychological  \n",
       "2       PG-13 - Teens 13 or older  Adventure        Comedy        Fantasy  \n",
       "3       PG-13 - Teens 13 or older     Comedy         Magic         Parody  \n",
       "4       PG-13 - Teens 13 or older  Adventure  Supernatural     Historical  "
      ]
     },
     "execution_count": 32,
     "metadata": {},
     "output_type": "execute_result"
    }
   ],
   "source": [
    "DimAnime = spark.read.parquet(\"tables/DimAnime\")\n",
    "DimAnime.toPandas().head()"
   ]
  },
  {
   "cell_type": "code",
   "execution_count": 33,
   "metadata": {
    "editable": true
   },
   "outputs": [
    {
     "name": "stdout",
     "output_type": "stream",
     "text": [
      "Table DimAnimeViewer was witten successfully to tables/DimAnimeViewer\n"
     ]
    }
   ],
   "source": [
    "ct.create_dim_anime_viewer(anime_viewer_spark, output_path)"
   ]
  },
  {
   "cell_type": "code",
   "execution_count": 34,
   "metadata": {
    "editable": true
   },
   "outputs": [
    {
     "data": {
      "text/html": [
       "<div>\n",
       "<style scoped>\n",
       "    .dataframe tbody tr th:only-of-type {\n",
       "        vertical-align: middle;\n",
       "    }\n",
       "\n",
       "    .dataframe tbody tr th {\n",
       "        vertical-align: top;\n",
       "    }\n",
       "\n",
       "    .dataframe thead th {\n",
       "        text-align: right;\n",
       "    }\n",
       "</style>\n",
       "<table border=\"1\" class=\"dataframe\">\n",
       "  <thead>\n",
       "    <tr style=\"text-align: right;\">\n",
       "      <th></th>\n",
       "      <th>User_ID</th>\n",
       "      <th>Watched_Episodes</th>\n",
       "    </tr>\n",
       "  </thead>\n",
       "  <tbody>\n",
       "    <tr>\n",
       "      <th>0</th>\n",
       "      <td>98</td>\n",
       "      <td>222</td>\n",
       "    </tr>\n",
       "    <tr>\n",
       "      <th>1</th>\n",
       "      <td>195</td>\n",
       "      <td>77</td>\n",
       "    </tr>\n",
       "    <tr>\n",
       "      <th>2</th>\n",
       "      <td>256</td>\n",
       "      <td>1</td>\n",
       "    </tr>\n",
       "    <tr>\n",
       "      <th>3</th>\n",
       "      <td>678</td>\n",
       "      <td>7</td>\n",
       "    </tr>\n",
       "    <tr>\n",
       "      <th>4</th>\n",
       "      <td>714</td>\n",
       "      <td>5</td>\n",
       "    </tr>\n",
       "  </tbody>\n",
       "</table>\n",
       "</div>"
      ],
      "text/plain": [
       "   User_ID  Watched_Episodes\n",
       "0       98               222\n",
       "1      195                77\n",
       "2      256                 1\n",
       "3      678                 7\n",
       "4      714                 5"
      ]
     },
     "execution_count": 34,
     "metadata": {},
     "output_type": "execute_result"
    }
   ],
   "source": [
    "DimAnimeViewer = spark.read.parquet(\"tables/DimAnimeViewer\")\n",
    "DimAnimeViewer.toPandas().head()"
   ]
  },
  {
   "cell_type": "code",
   "execution_count": 35,
   "metadata": {
    "editable": true
   },
   "outputs": [
    {
     "name": "stdout",
     "output_type": "stream",
     "text": [
      "Table DimWathcingStatus was witten successfully to tables/DimWathcingStatus\n"
     ]
    }
   ],
   "source": [
    "ct.create_dim_watching_status(status_spark, output_path)"
   ]
  },
  {
   "cell_type": "code",
   "execution_count": 36,
   "metadata": {
    "editable": true
   },
   "outputs": [
    {
     "data": {
      "text/html": [
       "<div>\n",
       "<style scoped>\n",
       "    .dataframe tbody tr th:only-of-type {\n",
       "        vertical-align: middle;\n",
       "    }\n",
       "\n",
       "    .dataframe tbody tr th {\n",
       "        vertical-align: top;\n",
       "    }\n",
       "\n",
       "    .dataframe thead th {\n",
       "        text-align: right;\n",
       "    }\n",
       "</style>\n",
       "<table border=\"1\" class=\"dataframe\">\n",
       "  <thead>\n",
       "    <tr style=\"text-align: right;\">\n",
       "      <th></th>\n",
       "      <th>Status_ID</th>\n",
       "      <th>Status_Description</th>\n",
       "    </tr>\n",
       "  </thead>\n",
       "  <tbody>\n",
       "    <tr>\n",
       "      <th>0</th>\n",
       "      <td>1</td>\n",
       "      <td>Currently Watching</td>\n",
       "    </tr>\n",
       "    <tr>\n",
       "      <th>1</th>\n",
       "      <td>6</td>\n",
       "      <td>Plan to Watch</td>\n",
       "    </tr>\n",
       "    <tr>\n",
       "      <th>2</th>\n",
       "      <td>2</td>\n",
       "      <td>Completed</td>\n",
       "    </tr>\n",
       "    <tr>\n",
       "      <th>3</th>\n",
       "      <td>3</td>\n",
       "      <td>On Hold</td>\n",
       "    </tr>\n",
       "    <tr>\n",
       "      <th>4</th>\n",
       "      <td>4</td>\n",
       "      <td>Dropped</td>\n",
       "    </tr>\n",
       "  </tbody>\n",
       "</table>\n",
       "</div>"
      ],
      "text/plain": [
       "   Status_ID  Status_Description\n",
       "0          1  Currently Watching\n",
       "1          6       Plan to Watch\n",
       "2          2           Completed\n",
       "3          3             On Hold\n",
       "4          4             Dropped"
      ]
     },
     "execution_count": 36,
     "metadata": {},
     "output_type": "execute_result"
    }
   ],
   "source": [
    "DimWathcingStatus = spark.read.parquet(\"tables/DimWathcingStatus\")\n",
    "DimWathcingStatus.toPandas().head()"
   ]
  },
  {
   "cell_type": "code",
   "execution_count": 37,
   "metadata": {
    "editable": true
   },
   "outputs": [
    {
     "name": "stdout",
     "output_type": "stream",
     "text": [
      "Table DimDate was witten successfully to tables/DimDate\n"
     ]
    }
   ],
   "source": [
    "ct.create_dim_date(date_spark, output_path)"
   ]
  },
  {
   "cell_type": "code",
   "execution_count": 38,
   "metadata": {
    "editable": true
   },
   "outputs": [
    {
     "data": {
      "text/html": [
       "<div>\n",
       "<style scoped>\n",
       "    .dataframe tbody tr th:only-of-type {\n",
       "        vertical-align: middle;\n",
       "    }\n",
       "\n",
       "    .dataframe tbody tr th {\n",
       "        vertical-align: top;\n",
       "    }\n",
       "\n",
       "    .dataframe thead th {\n",
       "        text-align: right;\n",
       "    }\n",
       "</style>\n",
       "<table border=\"1\" class=\"dataframe\">\n",
       "  <thead>\n",
       "    <tr style=\"text-align: right;\">\n",
       "      <th></th>\n",
       "      <th>Date</th>\n",
       "      <th>Year</th>\n",
       "      <th>Month_Name</th>\n",
       "      <th>Month</th>\n",
       "      <th>Quarter</th>\n",
       "      <th>ID</th>\n",
       "      <th>Formatted_Date</th>\n",
       "    </tr>\n",
       "  </thead>\n",
       "  <tbody>\n",
       "    <tr>\n",
       "      <th>0</th>\n",
       "      <td>15/05/1900</td>\n",
       "      <td>1900</td>\n",
       "      <td>May</td>\n",
       "      <td>5</td>\n",
       "      <td>Q2</td>\n",
       "      <td>135</td>\n",
       "      <td>1900-05-15</td>\n",
       "    </tr>\n",
       "    <tr>\n",
       "      <th>1</th>\n",
       "      <td>05/09/1900</td>\n",
       "      <td>1900</td>\n",
       "      <td>September</td>\n",
       "      <td>9</td>\n",
       "      <td>Q3</td>\n",
       "      <td>248</td>\n",
       "      <td>1900-09-05</td>\n",
       "    </tr>\n",
       "    <tr>\n",
       "      <th>2</th>\n",
       "      <td>14/05/1901</td>\n",
       "      <td>1901</td>\n",
       "      <td>May</td>\n",
       "      <td>5</td>\n",
       "      <td>Q2</td>\n",
       "      <td>499</td>\n",
       "      <td>1901-05-14</td>\n",
       "    </tr>\n",
       "    <tr>\n",
       "      <th>3</th>\n",
       "      <td>06/06/1901</td>\n",
       "      <td>1901</td>\n",
       "      <td>June</td>\n",
       "      <td>6</td>\n",
       "      <td>Q2</td>\n",
       "      <td>522</td>\n",
       "      <td>1901-06-06</td>\n",
       "    </tr>\n",
       "    <tr>\n",
       "      <th>4</th>\n",
       "      <td>21/06/1902</td>\n",
       "      <td>1902</td>\n",
       "      <td>June</td>\n",
       "      <td>6</td>\n",
       "      <td>Q2</td>\n",
       "      <td>902</td>\n",
       "      <td>1902-06-21</td>\n",
       "    </tr>\n",
       "  </tbody>\n",
       "</table>\n",
       "</div>"
      ],
      "text/plain": [
       "         Date  Year Month_Name  Month Quarter   ID Formatted_Date\n",
       "0  15/05/1900  1900        May      5      Q2  135     1900-05-15\n",
       "1  05/09/1900  1900  September      9      Q3  248     1900-09-05\n",
       "2  14/05/1901  1901        May      5      Q2  499     1901-05-14\n",
       "3  06/06/1901  1901       June      6      Q2  522     1901-06-06\n",
       "4  21/06/1902  1902       June      6      Q2  902     1902-06-21"
      ]
     },
     "execution_count": 38,
     "metadata": {},
     "output_type": "execute_result"
    }
   ],
   "source": [
    "DimDate = spark.read.parquet(\"tables/DimDate\")\n",
    "DimDate.toPandas().head()"
   ]
  },
  {
   "cell_type": "code",
   "execution_count": 39,
   "metadata": {
    "editable": true
   },
   "outputs": [
    {
     "name": "stdout",
     "output_type": "stream",
     "text": [
      "Table FactUserRating was witten successfully to tables/FactUserRating\n"
     ]
    }
   ],
   "source": [
    "ct.create_fact_user_rating(anime_viewer_spark, output_path)"
   ]
  },
  {
   "cell_type": "code",
   "execution_count": 40,
   "metadata": {
    "editable": true
   },
   "outputs": [
    {
     "data": {
      "text/html": [
       "<div>\n",
       "<style scoped>\n",
       "    .dataframe tbody tr th:only-of-type {\n",
       "        vertical-align: middle;\n",
       "    }\n",
       "\n",
       "    .dataframe tbody tr th {\n",
       "        vertical-align: top;\n",
       "    }\n",
       "\n",
       "    .dataframe thead th {\n",
       "        text-align: right;\n",
       "    }\n",
       "</style>\n",
       "<table border=\"1\" class=\"dataframe\">\n",
       "  <thead>\n",
       "    <tr style=\"text-align: right;\">\n",
       "      <th></th>\n",
       "      <th>User_ID</th>\n",
       "      <th>Anime_ID</th>\n",
       "      <th>Rating</th>\n",
       "      <th>Watching_Status_ID</th>\n",
       "    </tr>\n",
       "  </thead>\n",
       "  <tbody>\n",
       "    <tr>\n",
       "      <th>0</th>\n",
       "      <td>2</td>\n",
       "      <td>6893</td>\n",
       "      <td>0</td>\n",
       "      <td>2</td>\n",
       "    </tr>\n",
       "    <tr>\n",
       "      <th>1</th>\n",
       "      <td>2</td>\n",
       "      <td>9588</td>\n",
       "      <td>0</td>\n",
       "      <td>6</td>\n",
       "    </tr>\n",
       "    <tr>\n",
       "      <th>2</th>\n",
       "      <td>4</td>\n",
       "      <td>393</td>\n",
       "      <td>5</td>\n",
       "      <td>2</td>\n",
       "    </tr>\n",
       "    <tr>\n",
       "      <th>3</th>\n",
       "      <td>5</td>\n",
       "      <td>617</td>\n",
       "      <td>5</td>\n",
       "      <td>2</td>\n",
       "    </tr>\n",
       "    <tr>\n",
       "      <th>4</th>\n",
       "      <td>6</td>\n",
       "      <td>4715</td>\n",
       "      <td>9</td>\n",
       "      <td>2</td>\n",
       "    </tr>\n",
       "  </tbody>\n",
       "</table>\n",
       "</div>"
      ],
      "text/plain": [
       "   User_ID  Anime_ID  Rating  Watching_Status_ID\n",
       "0        2      6893       0                   2\n",
       "1        2      9588       0                   6\n",
       "2        4       393       5                   2\n",
       "3        5       617       5                   2\n",
       "4        6      4715       9                   2"
      ]
     },
     "execution_count": 40,
     "metadata": {},
     "output_type": "execute_result"
    }
   ],
   "source": [
    "FactUserRating = spark.read.parquet(\"tables/FactUserRating\")\n",
    "FactUserRating.toPandas().head()"
   ]
  },
  {
   "cell_type": "code",
   "execution_count": 41,
   "metadata": {
    "editable": true
   },
   "outputs": [
    {
     "name": "stdout",
     "output_type": "stream",
     "text": [
      "Table FactAnimeMeasures was witten successfully to tables/FactAnimeMeasures\n"
     ]
    }
   ],
   "source": [
    "ct.create_fact_anime_measures(spark_df = anime_spark,dim_date = DimDate,output_path = output_path)"
   ]
  },
  {
   "cell_type": "code",
   "execution_count": 42,
   "metadata": {
    "editable": true
   },
   "outputs": [
    {
     "data": {
      "text/html": [
       "<div>\n",
       "<style scoped>\n",
       "    .dataframe tbody tr th:only-of-type {\n",
       "        vertical-align: middle;\n",
       "    }\n",
       "\n",
       "    .dataframe tbody tr th {\n",
       "        vertical-align: top;\n",
       "    }\n",
       "\n",
       "    .dataframe thead th {\n",
       "        text-align: right;\n",
       "    }\n",
       "</style>\n",
       "<table border=\"1\" class=\"dataframe\">\n",
       "  <thead>\n",
       "    <tr style=\"text-align: right;\">\n",
       "      <th></th>\n",
       "      <th>MAL_ID</th>\n",
       "      <th>Score</th>\n",
       "      <th>First_Show_Date_ID</th>\n",
       "      <th>Duration</th>\n",
       "      <th>Ranked</th>\n",
       "      <th>Popularity</th>\n",
       "      <th>Members</th>\n",
       "      <th>Favorites</th>\n",
       "      <th>Watching</th>\n",
       "      <th>Completed</th>\n",
       "      <th>...</th>\n",
       "      <th>Score-10</th>\n",
       "      <th>Score-1</th>\n",
       "      <th>Score-2</th>\n",
       "      <th>Score-3</th>\n",
       "      <th>Score-4</th>\n",
       "      <th>Score-5</th>\n",
       "      <th>Score-6</th>\n",
       "      <th>Score-7</th>\n",
       "      <th>Score-8</th>\n",
       "      <th>Score-9</th>\n",
       "    </tr>\n",
       "  </thead>\n",
       "  <tbody>\n",
       "    <tr>\n",
       "      <th>0</th>\n",
       "      <td>77</td>\n",
       "      <td>7.99</td>\n",
       "      <td>38626.0</td>\n",
       "      <td>25 min. per ep.</td>\n",
       "      <td>551.0</td>\n",
       "      <td>2075</td>\n",
       "      <td>56981</td>\n",
       "      <td>1014</td>\n",
       "      <td>1367</td>\n",
       "      <td>40165</td>\n",
       "      <td>...</td>\n",
       "      <td>4189</td>\n",
       "      <td>6809</td>\n",
       "      <td>9368</td>\n",
       "      <td>6267</td>\n",
       "      <td>2220</td>\n",
       "      <td>864</td>\n",
       "      <td>250</td>\n",
       "      <td>83</td>\n",
       "      <td>53</td>\n",
       "      <td>71</td>\n",
       "    </tr>\n",
       "    <tr>\n",
       "      <th>1</th>\n",
       "      <td>102</td>\n",
       "      <td>7.48</td>\n",
       "      <td>38079.0</td>\n",
       "      <td>25 min. per ep.</td>\n",
       "      <td>1634.0</td>\n",
       "      <td>1529</td>\n",
       "      <td>89533</td>\n",
       "      <td>571</td>\n",
       "      <td>3772</td>\n",
       "      <td>59770</td>\n",
       "      <td>...</td>\n",
       "      <td>4497</td>\n",
       "      <td>7282</td>\n",
       "      <td>12321</td>\n",
       "      <td>12618</td>\n",
       "      <td>6389</td>\n",
       "      <td>3227</td>\n",
       "      <td>1069</td>\n",
       "      <td>426</td>\n",
       "      <td>187</td>\n",
       "      <td>180</td>\n",
       "    </tr>\n",
       "    <tr>\n",
       "      <th>2</th>\n",
       "      <td>361</td>\n",
       "      <td>5.93</td>\n",
       "      <td>37215.0</td>\n",
       "      <td>30 min. per ep.</td>\n",
       "      <td>8448.0</td>\n",
       "      <td>6120</td>\n",
       "      <td>5715</td>\n",
       "      <td>4</td>\n",
       "      <td>162</td>\n",
       "      <td>2622</td>\n",
       "      <td>...</td>\n",
       "      <td>74</td>\n",
       "      <td>87</td>\n",
       "      <td>186</td>\n",
       "      <td>443</td>\n",
       "      <td>461</td>\n",
       "      <td>352</td>\n",
       "      <td>211</td>\n",
       "      <td>94</td>\n",
       "      <td>58</td>\n",
       "      <td>36</td>\n",
       "    </tr>\n",
       "    <tr>\n",
       "      <th>3</th>\n",
       "      <td>589</td>\n",
       "      <td>8.04</td>\n",
       "      <td>31508.0</td>\n",
       "      <td>23 min. per ep.</td>\n",
       "      <td>486.0</td>\n",
       "      <td>3568</td>\n",
       "      <td>21057</td>\n",
       "      <td>751</td>\n",
       "      <td>721</td>\n",
       "      <td>11688</td>\n",
       "      <td>...</td>\n",
       "      <td>2130</td>\n",
       "      <td>1810</td>\n",
       "      <td>2201</td>\n",
       "      <td>1830</td>\n",
       "      <td>746</td>\n",
       "      <td>353</td>\n",
       "      <td>134</td>\n",
       "      <td>61</td>\n",
       "      <td>36</td>\n",
       "      <td>36</td>\n",
       "    </tr>\n",
       "    <tr>\n",
       "      <th>4</th>\n",
       "      <td>814</td>\n",
       "      <td>7.49</td>\n",
       "      <td>38380.0</td>\n",
       "      <td>30 min.</td>\n",
       "      <td>1618.0</td>\n",
       "      <td>4355</td>\n",
       "      <td>13428</td>\n",
       "      <td>44</td>\n",
       "      <td>135</td>\n",
       "      <td>11041</td>\n",
       "      <td>...</td>\n",
       "      <td>923</td>\n",
       "      <td>989</td>\n",
       "      <td>1642</td>\n",
       "      <td>1940</td>\n",
       "      <td>919</td>\n",
       "      <td>430</td>\n",
       "      <td>126</td>\n",
       "      <td>44</td>\n",
       "      <td>30</td>\n",
       "      <td>23</td>\n",
       "    </tr>\n",
       "  </tbody>\n",
       "</table>\n",
       "<p>5 rows × 23 columns</p>\n",
       "</div>"
      ],
      "text/plain": [
       "   MAL_ID  Score  First_Show_Date_ID         Duration  Ranked  Popularity  \\\n",
       "0      77   7.99             38626.0  25 min. per ep.   551.0        2075   \n",
       "1     102   7.48             38079.0  25 min. per ep.  1634.0        1529   \n",
       "2     361   5.93             37215.0  30 min. per ep.  8448.0        6120   \n",
       "3     589   8.04             31508.0  23 min. per ep.   486.0        3568   \n",
       "4     814   7.49             38380.0          30 min.  1618.0        4355   \n",
       "\n",
       "   Members  Favorites  Watching  Completed   ...     Score-10  Score-1  \\\n",
       "0    56981       1014      1367      40165   ...         4189     6809   \n",
       "1    89533        571      3772      59770   ...         4497     7282   \n",
       "2     5715          4       162       2622   ...           74       87   \n",
       "3    21057        751       721      11688   ...         2130     1810   \n",
       "4    13428         44       135      11041   ...          923      989   \n",
       "\n",
       "   Score-2  Score-3  Score-4  Score-5  Score-6  Score-7  Score-8  Score-9  \n",
       "0     9368     6267     2220      864      250       83       53       71  \n",
       "1    12321    12618     6389     3227     1069      426      187      180  \n",
       "2      186      443      461      352      211       94       58       36  \n",
       "3     2201     1830      746      353      134       61       36       36  \n",
       "4     1642     1940      919      430      126       44       30       23  \n",
       "\n",
       "[5 rows x 23 columns]"
      ]
     },
     "execution_count": 42,
     "metadata": {},
     "output_type": "execute_result"
    }
   ],
   "source": [
    "FactAnimeMeasures = spark.read.parquet(\"tables/FactAnimeMeasures\")\n",
    "FactAnimeMeasures.toPandas().head()"
   ]
  },
  {
   "cell_type": "markdown",
   "metadata": {
    "editable": true
   },
   "source": [
    "#### 4.2 Data Quality Checks\n",
    "Explain the data quality checks you'll perform to ensure the pipeline ran as expected. These could include:\n",
    " * Integrity constraints on the relational database (e.g., unique key, data type, etc.)\n",
    " * Unit tests for the scripts to ensure they are doing the right thing\n",
    " * Source/Count checks to ensure completeness\n",
    " \n",
    "Run Quality Checks"
   ]
  },
  {
   "cell_type": "markdown",
   "metadata": {
    "editable": true
   },
   "source": [
    "##### Check Uniqueness of key column"
   ]
  },
  {
   "cell_type": "code",
   "execution_count": 43,
   "metadata": {
    "editable": true
   },
   "outputs": [
    {
     "name": "stdout",
     "output_type": "stream",
     "text": [
      "uniqeness check passed for table DimAnime unique column MAL_ID\n",
      "uniqeness check passed for table DimAnimeViewer unique column User_ID\n",
      "uniqeness check passed for table DimWathcingStatus unique column Status_ID\n",
      "uniqeness check passed for table DimDate unique column ID\n",
      "uniqeness check passed for table FactUserRating unique column ['User_ID', 'Anime_ID']\n",
      "uniqeness check passed for table FactAnimeMeasures unique column MAL_ID\n"
     ]
    }
   ],
   "source": [
    "tables = [\n",
    "    [DimAnime,\"DimAnime\",\"MAL_ID\"],\n",
    "    [DimAnimeViewer,\"DimAnimeViewer\",\"User_ID\"],\n",
    "    [DimWathcingStatus,\"DimWathcingStatus\",\"Status_ID\"],\n",
    "    [DimDate,\"DimDate\",\"ID\"],\n",
    "    [FactUserRating,\"FactUserRating\",[\"User_ID\",\"Anime_ID\"]],\n",
    "    [FactAnimeMeasures,\"FactAnimeMeasures\", \"MAL_ID\"]\n",
    "]\n",
    "for spark_df,table_name,PK in tables:\n",
    "    qc.check_uniqueness(spark_df,table_name,PK )"
   ]
  },
  {
   "cell_type": "markdown",
   "metadata": {
    "editable": true
   },
   "source": [
    "##### Check table records count"
   ]
  },
  {
   "cell_type": "code",
   "execution_count": 44,
   "metadata": {
    "editable": true
   },
   "outputs": [
    {
     "name": "stdout",
     "output_type": "stream",
     "text": [
      "Data quality check passed for DimAnime with 17562 records\n",
      "Data quality check passed for DimAnimeViewer with 3292 records\n",
      "Data quality check passed for DimWathcingStatus with 5 records\n",
      "Data quality check passed for DimDate with 44926 records\n",
      "Data quality check passed for FactUserRating with 1048575 records\n",
      "Data quality check passed for FactAnimeMeasures with 17562 records\n"
     ]
    }
   ],
   "source": [
    "tables = {\n",
    "    DimAnime:\"DimAnime\",\n",
    "    DimAnimeViewer:\"DimAnimeViewer\",\n",
    "    DimWathcingStatus :\"DimWathcingStatus\",\n",
    "    DimDate :\"DimDate\",\n",
    "    FactUserRating : \"FactUserRating\",\n",
    "    FactAnimeMeasures : \"FactAnimeMeasures\"\n",
    "}\n",
    "for table,table_name in tables.items():\n",
    "    qc.check_table_record_count(table,table_name)"
   ]
  },
  {
   "cell_type": "markdown",
   "metadata": {
    "editable": true
   },
   "source": [
    "##### Check Completness between source and destination"
   ]
  },
  {
   "cell_type": "code",
   "execution_count": 45,
   "metadata": {
    "editable": true
   },
   "outputs": [
    {
     "name": "stdout",
     "output_type": "stream",
     "text": [
      "Completness check passed for final table DimAnime compared to sataging\n",
      "Completness check passed for final table DimAnimeViewer compared to sataging\n",
      "Completness check passed for final table DimWathcingStatus compared to sataging\n",
      "Completness check passed for final table DimDate compared to sataging\n",
      "Completness check passed for final table FactUserRating compared to sataging\n",
      "Completness check passed for final table FactAnimeMeasures compared to sataging\n"
     ]
    }
   ],
   "source": [
    "tables = [\n",
    "    [DimAnime,anime_spark,\"DimAnime\",\"MAL_ID\"],\n",
    "    [DimAnimeViewer,anime_viewer_spark,\"DimAnimeViewer\",\"User_ID\"],\n",
    "    [DimWathcingStatus,status_spark,\"DimWathcingStatus\",\"Status_ID\"],\n",
    "    [DimDate,date_spark,\"DimDate\",\"ID\"],\n",
    "    [FactUserRating,anime_viewer_spark,\"FactUserRating\",[\"User_ID\",\"Anime_ID\"]],\n",
    "    [FactAnimeMeasures,anime_spark,\"FactAnimeMeasures\", \"MAL_ID\"]\n",
    "]\n",
    "for spark_table,source_df,PK,table_name in tables:\n",
    "    qc.check_source_Destination_count(spark_table,source_df,PK,table_name)"
   ]
  },
  {
   "cell_type": "markdown",
   "metadata": {
    "editable": true
   },
   "source": [
    "#### 4.3 Data dictionary \n",
    "you can refer to step 1 for each importe dataset it is followed by its dictionary"
   ]
  },
  {
   "cell_type": "markdown",
   "metadata": {
    "editable": true
   },
   "source": [
    "#### Step 5: Complete Project Write Up\n",
    "* Clearly state the rationale for the choice of tools and technologies for the project.\n",
    "* Propose how often the data should be updated and why.\n",
    "* Write a description of how you would approach the problem differently under the following scenarios:\n",
    " * The data was increased by 100x.\n",
    " * The data populates a dashboard that must be updated on a daily basis by 7am every day.\n",
    " * The database needed to be accessed by 100+ people."
   ]
  },
  {
   "cell_type": "markdown",
   "metadata": {
    "editable": true,
    "jupyter": {
     "outputs_hidden": true
    }
   },
   "source": [
    "#### Clearly state the rationale for the choice of tools and technologies for the project.\n",
    "we used for data processing Apache spark, being one of best choices for big data ingestion and analysis,\n",
    "as well as its integration with python libraries.\n",
    "I used for raw data manipulation,cleansing andinvestigation pandas library due to its variaous functions and ease of data manipulation"
   ]
  },
  {
   "cell_type": "markdown",
   "metadata": {
    "editable": true
   },
   "source": [
    "#### Propose how often the data should be updated and why.\n",
    "I think this data may be updated monthly,daily or even hourly according to data scientist requirement for model data feeding and retraining to get best recommendation for website users"
   ]
  },
  {
   "cell_type": "markdown",
   "metadata": {
    "editable": true
   },
   "source": [
    "#### If data is to be increased by 100x,\n",
    "we should manage our resources, storage and memory either horizontally be adding nodes or verically be elevating our cluster power, parallel processing will be effective also using \n",
    "cloud unlimiited scalable storage and processing capabilities\n",
    "will be a good choice like amazon redshift for OLAP and EMR for processing"
   ]
  },
  {
   "cell_type": "markdown",
   "metadata": {
    "editable": true
   },
   "source": [
    "#### If data should be populated on daily basis,\n",
    "This can be handled simply by defining apache Airflow dag with defined cron job, setting tasks dependancy\n",
    "and it can simply handle processing data d=on daily basis"
   ]
  },
  {
   "cell_type": "markdown",
   "metadata": {
    "editable": true
   },
   "source": [
    "#### If database needed to be accessed by 100+ people.\n",
    " at first we should verify that OLAP is separated from OLTP \n",
    " using indices should be considered for fast retrieval of data\n",
    " ensure denormalization of data to decrease need for joins\n",
    " we can benefit from auto scalability and resizing feature for Amazon Redshift"
   ]
  }
 ],
 "metadata": {
  "kernelspec": {
   "display_name": "Python 3",
   "language": "python",
   "name": "python3"
  },
  "language_info": {
   "codemirror_mode": {
    "name": "ipython",
    "version": 3
   },
   "file_extension": ".py",
   "mimetype": "text/x-python",
   "name": "python",
   "nbconvert_exporter": "python",
   "pygments_lexer": "ipython3",
   "version": "3.6.3"
  }
 },
 "nbformat": 4,
 "nbformat_minor": 4
}
